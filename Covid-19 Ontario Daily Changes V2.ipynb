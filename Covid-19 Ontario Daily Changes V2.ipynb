{
 "cells": [
  {
   "cell_type": "markdown",
   "metadata": {},
   "source": [
    "# Covid-19 - Ontario\n",
    "\n",
    "### By Alexandre Dietrich\n",
    "\n",
    "#### April 16, 2020"
   ]
  },
  {
   "cell_type": "markdown",
   "metadata": {},
   "source": [
    "The datasets were downloaded from the o official Ontario site. \n",
    "\n",
    "https://data.ontario.ca/dataset?keywords_en=COVID-19"
   ]
  },
  {
   "cell_type": "code",
   "execution_count": 1,
   "metadata": {},
   "outputs": [],
   "source": [
    "import numpy as np\n",
    "import pandas as pd\n",
    "import matplotlib.pyplot as plt"
   ]
  },
  {
   "cell_type": "markdown",
   "metadata": {},
   "source": [
    "## Dataset: Confirmed positive cases of COVID19 in Ontario"
   ]
  },
  {
   "cell_type": "code",
   "execution_count": 2,
   "metadata": {},
   "outputs": [
    {
     "data": {
      "text/html": [
       "<div>\n",
       "<style scoped>\n",
       "    .dataframe tbody tr th:only-of-type {\n",
       "        vertical-align: middle;\n",
       "    }\n",
       "\n",
       "    .dataframe tbody tr th {\n",
       "        vertical-align: top;\n",
       "    }\n",
       "\n",
       "    .dataframe thead th {\n",
       "        text-align: right;\n",
       "    }\n",
       "</style>\n",
       "<table border=\"1\" class=\"dataframe\">\n",
       "  <thead>\n",
       "    <tr style=\"text-align: right;\">\n",
       "      <th></th>\n",
       "      <th>ROW_ID</th>\n",
       "      <th>ACCURATE_EPISODE_DATE</th>\n",
       "      <th>Age_Group</th>\n",
       "      <th>CLIENT_GENDER</th>\n",
       "      <th>CASE_ACQUISITIONINFO</th>\n",
       "      <th>OUTCOME1</th>\n",
       "      <th>Reporting_PHU</th>\n",
       "      <th>Reporting_PHU_Address</th>\n",
       "      <th>Reporting_PHU_City</th>\n",
       "      <th>Reporting_PHU_Postal_Code</th>\n",
       "      <th>Reporting_PHU_Website</th>\n",
       "      <th>Reporting_PHU_Latitude</th>\n",
       "      <th>Reporting_PHU_Longitude</th>\n",
       "    </tr>\n",
       "  </thead>\n",
       "  <tbody>\n",
       "    <tr>\n",
       "      <th>0</th>\n",
       "      <td>1</td>\n",
       "      <td>2020-03-17</td>\n",
       "      <td>80s</td>\n",
       "      <td>FEMALE</td>\n",
       "      <td>Travel-Related</td>\n",
       "      <td>Fatal</td>\n",
       "      <td>York Region Public Health Services</td>\n",
       "      <td>17250 Yonge Street</td>\n",
       "      <td>Newmarket</td>\n",
       "      <td>L3Y 6Z1</td>\n",
       "      <td>www.york.ca/wps/portal/yorkhome/health/</td>\n",
       "      <td>44.048023</td>\n",
       "      <td>-79.480239</td>\n",
       "    </tr>\n",
       "    <tr>\n",
       "      <th>1</th>\n",
       "      <td>2</td>\n",
       "      <td>2020-03-26</td>\n",
       "      <td>60s</td>\n",
       "      <td>FEMALE</td>\n",
       "      <td>Neither</td>\n",
       "      <td>Resolved</td>\n",
       "      <td>York Region Public Health Services</td>\n",
       "      <td>17250 Yonge Street</td>\n",
       "      <td>Newmarket</td>\n",
       "      <td>L3Y 6Z1</td>\n",
       "      <td>www.york.ca/wps/portal/yorkhome/health/</td>\n",
       "      <td>44.048023</td>\n",
       "      <td>-79.480239</td>\n",
       "    </tr>\n",
       "    <tr>\n",
       "      <th>2</th>\n",
       "      <td>3</td>\n",
       "      <td>2020-03-17</td>\n",
       "      <td>30s</td>\n",
       "      <td>MALE</td>\n",
       "      <td>Travel-Related</td>\n",
       "      <td>Resolved</td>\n",
       "      <td>Toronto Public Health</td>\n",
       "      <td>277 Victoria Street, 5th Floor</td>\n",
       "      <td>Toronto</td>\n",
       "      <td>M5B 1W2</td>\n",
       "      <td>www.toronto.ca/community-people/health-wellnes...</td>\n",
       "      <td>43.656591</td>\n",
       "      <td>-79.379358</td>\n",
       "    </tr>\n",
       "    <tr>\n",
       "      <th>3</th>\n",
       "      <td>4</td>\n",
       "      <td>2020-03-21</td>\n",
       "      <td>40s</td>\n",
       "      <td>MALE</td>\n",
       "      <td>Neither</td>\n",
       "      <td>Resolved</td>\n",
       "      <td>Toronto Public Health</td>\n",
       "      <td>277 Victoria Street, 5th Floor</td>\n",
       "      <td>Toronto</td>\n",
       "      <td>M5B 1W2</td>\n",
       "      <td>www.toronto.ca/community-people/health-wellnes...</td>\n",
       "      <td>43.656591</td>\n",
       "      <td>-79.379358</td>\n",
       "    </tr>\n",
       "    <tr>\n",
       "      <th>4</th>\n",
       "      <td>5</td>\n",
       "      <td>2020-03-14</td>\n",
       "      <td>40s</td>\n",
       "      <td>MALE</td>\n",
       "      <td>Neither</td>\n",
       "      <td>Resolved</td>\n",
       "      <td>Hamilton Public Health Services</td>\n",
       "      <td>110 King St. West, 2nd Floor</td>\n",
       "      <td>Hamilton</td>\n",
       "      <td>L8P 4S6</td>\n",
       "      <td>www.hamilton.ca/publichealth</td>\n",
       "      <td>43.257631</td>\n",
       "      <td>-79.871341</td>\n",
       "    </tr>\n",
       "  </tbody>\n",
       "</table>\n",
       "</div>"
      ],
      "text/plain": [
       "   ROW_ID ACCURATE_EPISODE_DATE Age_Group CLIENT_GENDER CASE_ACQUISITIONINFO  \\\n",
       "0       1            2020-03-17       80s        FEMALE       Travel-Related   \n",
       "1       2            2020-03-26       60s        FEMALE              Neither   \n",
       "2       3            2020-03-17       30s          MALE       Travel-Related   \n",
       "3       4            2020-03-21       40s          MALE              Neither   \n",
       "4       5            2020-03-14       40s          MALE              Neither   \n",
       "\n",
       "   OUTCOME1                       Reporting_PHU  \\\n",
       "0     Fatal  York Region Public Health Services   \n",
       "1  Resolved  York Region Public Health Services   \n",
       "2  Resolved               Toronto Public Health   \n",
       "3  Resolved               Toronto Public Health   \n",
       "4  Resolved     Hamilton Public Health Services   \n",
       "\n",
       "            Reporting_PHU_Address Reporting_PHU_City  \\\n",
       "0              17250 Yonge Street          Newmarket   \n",
       "1              17250 Yonge Street          Newmarket   \n",
       "2  277 Victoria Street, 5th Floor            Toronto   \n",
       "3  277 Victoria Street, 5th Floor            Toronto   \n",
       "4    110 King St. West, 2nd Floor           Hamilton   \n",
       "\n",
       "  Reporting_PHU_Postal_Code  \\\n",
       "0                   L3Y 6Z1   \n",
       "1                   L3Y 6Z1   \n",
       "2                   M5B 1W2   \n",
       "3                   M5B 1W2   \n",
       "4                   L8P 4S6   \n",
       "\n",
       "                               Reporting_PHU_Website  Reporting_PHU_Latitude  \\\n",
       "0            www.york.ca/wps/portal/yorkhome/health/               44.048023   \n",
       "1            www.york.ca/wps/portal/yorkhome/health/               44.048023   \n",
       "2  www.toronto.ca/community-people/health-wellnes...               43.656591   \n",
       "3  www.toronto.ca/community-people/health-wellnes...               43.656591   \n",
       "4                       www.hamilton.ca/publichealth               43.257631   \n",
       "\n",
       "   Reporting_PHU_Longitude  \n",
       "0               -79.480239  \n",
       "1               -79.480239  \n",
       "2               -79.379358  \n",
       "3               -79.379358  \n",
       "4               -79.871341  "
      ]
     },
     "execution_count": 2,
     "metadata": {},
     "output_type": "execute_result"
    }
   ],
   "source": [
    "df = pd.read_csv(\"conposcovidloc.csv\")\n",
    "df.head()"
   ]
  },
  {
   "cell_type": "code",
   "execution_count": 3,
   "metadata": {},
   "outputs": [
    {
     "name": "stdout",
     "output_type": "stream",
     "text": [
      "<class 'pandas.core.frame.DataFrame'>\n",
      "RangeIndex: 8961 entries, 0 to 8960\n",
      "Data columns (total 13 columns):\n",
      "ROW_ID                       8961 non-null int64\n",
      "ACCURATE_EPISODE_DATE        8961 non-null object\n",
      "Age_Group                    8961 non-null object\n",
      "CLIENT_GENDER                8961 non-null object\n",
      "CASE_ACQUISITIONINFO         8961 non-null object\n",
      "OUTCOME1                     8961 non-null object\n",
      "Reporting_PHU                8961 non-null object\n",
      "Reporting_PHU_Address        8961 non-null object\n",
      "Reporting_PHU_City           8961 non-null object\n",
      "Reporting_PHU_Postal_Code    8961 non-null object\n",
      "Reporting_PHU_Website        8961 non-null object\n",
      "Reporting_PHU_Latitude       8961 non-null float64\n",
      "Reporting_PHU_Longitude      8961 non-null float64\n",
      "dtypes: float64(2), int64(1), object(10)\n",
      "memory usage: 910.2+ KB\n"
     ]
    }
   ],
   "source": [
    "df.info()"
   ]
  },
  {
   "cell_type": "code",
   "execution_count": 4,
   "metadata": {},
   "outputs": [
    {
     "name": "stdout",
     "output_type": "stream",
     "text": [
      "<class 'pandas.core.frame.DataFrame'>\n",
      "RangeIndex: 8961 entries, 0 to 8960\n",
      "Data columns (total 13 columns):\n",
      "id           8961 non-null int64\n",
      "date         8961 non-null object\n",
      "agegrp       8961 non-null object\n",
      "gender       8961 non-null object\n",
      "info         8961 non-null object\n",
      "outcome      8961 non-null object\n",
      "phu          8961 non-null object\n",
      "address      8961 non-null object\n",
      "city         8961 non-null object\n",
      "zipcode      8961 non-null object\n",
      "website      8961 non-null object\n",
      "latitude     8961 non-null float64\n",
      "longitude    8961 non-null float64\n",
      "dtypes: float64(2), int64(1), object(10)\n",
      "memory usage: 910.2+ KB\n"
     ]
    }
   ],
   "source": [
    "df.columns = ['id', 'date', 'agegrp', 'gender', 'info', \n",
    "              'outcome', 'phu', 'address', 'city', 'zipcode', 'website', 'latitude', 'longitude']\n",
    "df.info()"
   ]
  },
  {
   "cell_type": "code",
   "execution_count": 5,
   "metadata": {},
   "outputs": [
    {
     "data": {
      "text/plain": [
       "2020-04-15     42\n",
       "2020-04-14     78\n",
       "2020-04-13    233\n",
       "2020-04-12    218\n",
       "2020-04-11    359\n",
       "             ... \n",
       "2020-02-05      1\n",
       "2020-02-01      1\n",
       "2020-01-24      1\n",
       "2020-01-22      1\n",
       "2020-01-21      1\n",
       "Name: date, Length: 67, dtype: int64"
      ]
     },
     "execution_count": 5,
     "metadata": {},
     "output_type": "execute_result"
    }
   ],
   "source": [
    "df['date'].value_counts().sort_index(ascending=False)"
   ]
  },
  {
   "cell_type": "code",
   "execution_count": 6,
   "metadata": {},
   "outputs": [
    {
     "data": {
      "text/plain": [
       "2020-04-15      2\n",
       "2020-04-14     17\n",
       "2020-04-13     35\n",
       "2020-04-12     51\n",
       "2020-04-11    117\n",
       "2020-04-10    127\n",
       "2020-04-09     97\n",
       "2020-04-08    117\n",
       "2020-04-07    168\n",
       "2020-04-06    158\n",
       "2020-04-05     87\n",
       "2020-04-04     79\n",
       "2020-04-03     96\n",
       "2020-04-02    117\n",
       "2020-04-01    120\n",
       "2020-03-31     75\n",
       "2020-03-30     65\n",
       "2020-03-29     52\n",
       "2020-03-28     42\n",
       "2020-03-27     60\n",
       "2020-03-26     67\n",
       "2020-03-25     52\n",
       "2020-03-24     52\n",
       "2020-03-23     50\n",
       "2020-03-22     28\n",
       "2020-03-21     41\n",
       "2020-03-20     45\n",
       "2020-03-19     30\n",
       "2020-03-18     47\n",
       "2020-03-17     61\n",
       "2020-03-16     37\n",
       "2020-03-15     31\n",
       "2020-03-14     29\n",
       "2020-03-13     27\n",
       "2020-03-12     20\n",
       "2020-03-11     19\n",
       "2020-03-10     19\n",
       "2020-03-09     14\n",
       "2020-03-08      8\n",
       "2020-03-07      8\n",
       "2020-03-06      6\n",
       "2020-03-05      6\n",
       "2020-03-04      5\n",
       "2020-03-03      7\n",
       "2020-03-02      6\n",
       "2020-03-01      2\n",
       "2020-02-29      1\n",
       "2020-02-28      1\n",
       "2020-02-26      2\n",
       "2020-02-24      1\n",
       "2020-02-21      1\n",
       "2020-02-20      2\n",
       "2020-02-16      1\n",
       "2020-02-15      1\n",
       "2020-02-14      2\n",
       "2020-02-05      1\n",
       "2020-01-22      1\n",
       "2020-01-21      1\n",
       "Name: date, dtype: int64"
      ]
     },
     "execution_count": 6,
     "metadata": {},
     "output_type": "execute_result"
    }
   ],
   "source": [
    "df[df['city'] == 'Toronto']['date'].value_counts().sort_index(ascending=False)"
   ]
  },
  {
   "cell_type": "code",
   "execution_count": 7,
   "metadata": {},
   "outputs": [
    {
     "data": {
      "text/plain": [
       "Toronto             2414\n",
       "Mississauga         1195\n",
       "Newmarket            842\n",
       "Ottawa               650\n",
       "Whitby               463\n",
       "Windsor              398\n",
       "Oakville             347\n",
       "Thorold              314\n",
       "Hamilton             292\n",
       "London               250\n",
       "Brockville           248\n",
       "Waterloo             234\n",
       "Barrie               169\n",
       "Guelph               167\n",
       "Simcoe               145\n",
       "Port Hope            131\n",
       "Point Edward         126\n",
       "Brantford             71\n",
       "Cornwall              64\n",
       "Kingston              54\n",
       "Peterborough          53\n",
       "Timmins               42\n",
       "Owen Sound            40\n",
       "Sudbury               39\n",
       "St. Thomas            37\n",
       "Thunder Bay           34\n",
       "Stratford             33\n",
       "Belleville            28\n",
       "Chatham               25\n",
       "Pembroke              14\n",
       "North Bay             12\n",
       "New Liskeard          10\n",
       "Sault Ste. Marie      10\n",
       "Kenora                10\n",
       "Name: city, dtype: int64"
      ]
     },
     "execution_count": 7,
     "metadata": {},
     "output_type": "execute_result"
    }
   ],
   "source": [
    "cityname = df['city'].value_counts()\n",
    "cityname"
   ]
  },
  {
   "cell_type": "code",
   "execution_count": 8,
   "metadata": {},
   "outputs": [
    {
     "name": "stdout",
     "output_type": "stream",
     "text": [
      "<class 'pandas.core.frame.DataFrame'>\n",
      "RangeIndex: 8961 entries, 0 to 8960\n",
      "Data columns (total 13 columns):\n",
      "id           8961 non-null int64\n",
      "date         8961 non-null datetime64[ns]\n",
      "agegrp       8961 non-null object\n",
      "gender       8961 non-null object\n",
      "info         8961 non-null object\n",
      "outcome      8961 non-null object\n",
      "phu          8961 non-null object\n",
      "address      8961 non-null object\n",
      "city         8961 non-null object\n",
      "zipcode      8961 non-null object\n",
      "website      8961 non-null object\n",
      "latitude     8961 non-null float64\n",
      "longitude    8961 non-null float64\n",
      "dtypes: datetime64[ns](1), float64(2), int64(1), object(9)\n",
      "memory usage: 910.2+ KB\n"
     ]
    }
   ],
   "source": [
    "df['date'] = pd.to_datetime(df['date'], infer_datetime_format=True)\n",
    "df.info()"
   ]
  },
  {
   "cell_type": "code",
   "execution_count": 9,
   "metadata": {},
   "outputs": [
    {
     "data": {
      "text/plain": [
       "array([ 398,   25,   37,  145,  250,  126,  314,   71,  292,   33,  347,\n",
       "        234,  167, 1195, 2414,  463,  131,  842,   28,   54,   53,  169,\n",
       "         40,  248,   64,  650,   14,   12,   39,   10,   10,   34,   42,\n",
       "         10])"
      ]
     },
     "execution_count": 9,
     "metadata": {},
     "output_type": "execute_result"
    }
   ],
   "source": [
    "city = df.groupby(['latitude', 'longitude'])['city'].count()\n",
    "lat = city.index.get_level_values('latitude').to_numpy()\n",
    "long = city.index.get_level_values('longitude').to_numpy()\n",
    "size = city.values\n",
    "size"
   ]
  },
  {
   "cell_type": "code",
   "execution_count": 10,
   "metadata": {},
   "outputs": [
    {
     "data": {
      "text/plain": [
       "Brockville      248\n",
       "London          250\n",
       "Hamilton        292\n",
       "Thorold         314\n",
       "Oakville        347\n",
       "Windsor         398\n",
       "Whitby          463\n",
       "Ottawa          650\n",
       "Newmarket       842\n",
       "Mississauga    1195\n",
       "Toronto        2414\n",
       "Name: city, dtype: int64"
      ]
     },
     "execution_count": 10,
     "metadata": {},
     "output_type": "execute_result"
    }
   ],
   "source": [
    "cityname = cityname.head(11)\n",
    "cityname = cityname.sort_values(ascending=True)\n",
    "cityname"
   ]
  },
  {
   "cell_type": "code",
   "execution_count": 11,
   "metadata": {},
   "outputs": [
    {
     "data": {
      "text/plain": [
       "datetime.date(2020, 4, 15)"
      ]
     },
     "execution_count": 11,
     "metadata": {},
     "output_type": "execute_result"
    }
   ],
   "source": [
    "outcome = df[df['city'] == 'Toronto'].groupby('outcome')['outcome'].count()\n",
    "lastdate = df[df['city'] == 'Toronto']['date'].max().date()\n",
    "lastdate"
   ]
  },
  {
   "cell_type": "code",
   "execution_count": 12,
   "metadata": {},
   "outputs": [
    {
     "data": {
      "text/plain": [
       "agegrp\n",
       "20s        257\n",
       "30s        317\n",
       "40s        358\n",
       "50s        381\n",
       "60s        291\n",
       "70s        211\n",
       "80s        323\n",
       "90s        238\n",
       "<20         22\n",
       "Unknown      1\n",
       "Name: agegrp, dtype: int64"
      ]
     },
     "execution_count": 12,
     "metadata": {},
     "output_type": "execute_result"
    }
   ],
   "source": [
    "agegrp = df[(df['date'] >= '2020-03-01') & (df['city'] == 'Toronto')].groupby('agegrp')['agegrp'].count()\n",
    "agegrp"
   ]
  },
  {
   "cell_type": "code",
   "execution_count": 13,
   "metadata": {},
   "outputs": [],
   "source": [
    "cumulative = df[(df['date'] >= '2020-03-01') & (df['city'] == 'Toronto')].groupby('date')['date'].count().cumsum()"
   ]
  },
  {
   "cell_type": "code",
   "execution_count": 14,
   "metadata": {},
   "outputs": [],
   "source": [
    "byday = df[(df['date'] >= '2020-03-01') & (df['city'] == 'Toronto')].groupby('date')['date'].count()\n",
    "bydaychg = df[(df['date'] >= '2020-03-01') & (df['city'] == 'Toronto')].groupby('date')['date'].count().pct_change()"
   ]
  },
  {
   "cell_type": "code",
   "execution_count": 15,
   "metadata": {},
   "outputs": [
    {
     "data": {
      "text/plain": [
       "date\n",
       "2020-03-01         NaN\n",
       "2020-03-02    2.000000\n",
       "2020-03-03    0.166667\n",
       "2020-03-04   -0.285714\n",
       "2020-03-05    0.200000\n",
       "2020-03-06    0.000000\n",
       "2020-03-07    0.333333\n",
       "2020-03-08    0.000000\n",
       "2020-03-09    0.750000\n",
       "2020-03-10    0.357143\n",
       "2020-03-11    0.000000\n",
       "2020-03-12    0.052632\n",
       "2020-03-13    0.350000\n",
       "2020-03-14    0.074074\n",
       "2020-03-15    0.068966\n",
       "2020-03-16    0.193548\n",
       "2020-03-17    0.648649\n",
       "2020-03-18   -0.229508\n",
       "2020-03-19   -0.361702\n",
       "2020-03-20    0.500000\n",
       "2020-03-21   -0.088889\n",
       "2020-03-22   -0.317073\n",
       "2020-03-23    0.785714\n",
       "2020-03-24    0.040000\n",
       "2020-03-25    0.000000\n",
       "2020-03-26    0.288462\n",
       "2020-03-27   -0.104478\n",
       "2020-03-28   -0.300000\n",
       "2020-03-29    0.238095\n",
       "2020-03-30    0.250000\n",
       "2020-03-31    0.153846\n",
       "2020-04-01    0.600000\n",
       "2020-04-02   -0.025000\n",
       "2020-04-03   -0.179487\n",
       "2020-04-04   -0.177083\n",
       "2020-04-05    0.101266\n",
       "2020-04-06    0.816092\n",
       "2020-04-07    0.063291\n",
       "2020-04-08   -0.303571\n",
       "2020-04-09   -0.170940\n",
       "2020-04-10    0.309278\n",
       "2020-04-11   -0.078740\n",
       "2020-04-12   -0.564103\n",
       "2020-04-13   -0.313725\n",
       "2020-04-14   -0.514286\n",
       "2020-04-15   -0.882353\n",
       "Name: date, dtype: float64"
      ]
     },
     "execution_count": 15,
     "metadata": {},
     "output_type": "execute_result"
    }
   ],
   "source": [
    "bydaychg"
   ]
  },
  {
   "cell_type": "code",
   "execution_count": 16,
   "metadata": {},
   "outputs": [
    {
     "data": {
      "text/plain": [
       "datetime.date(2020, 4, 15)"
      ]
     },
     "execution_count": 16,
     "metadata": {},
     "output_type": "execute_result"
    }
   ],
   "source": [
    "outcomeOnt = df.groupby('outcome')['outcome'].count()\n",
    "lastdateOnt = df['date'].max().date()\n",
    "lastdateOnt"
   ]
  },
  {
   "cell_type": "code",
   "execution_count": 17,
   "metadata": {},
   "outputs": [
    {
     "data": {
      "text/plain": [
       "agegrp\n",
       "20s         994\n",
       "30s        1090\n",
       "40s        1307\n",
       "50s        1607\n",
       "60s        1233\n",
       "70s         842\n",
       "80s         971\n",
       "90s         667\n",
       "<20         204\n",
       "Unknown       5\n",
       "Name: agegrp, dtype: int64"
      ]
     },
     "execution_count": 17,
     "metadata": {},
     "output_type": "execute_result"
    }
   ],
   "source": [
    "agegrpOnt = df[df['date'] >= '2020-03-01'].groupby('agegrp')['agegrp'].count()\n",
    "agegrpOnt"
   ]
  },
  {
   "cell_type": "code",
   "execution_count": 18,
   "metadata": {},
   "outputs": [],
   "source": [
    "cumulativeOnt = df[df['date'] >= '2020-03-01'].groupby('date')['date'].count().cumsum()"
   ]
  },
  {
   "cell_type": "code",
   "execution_count": 19,
   "metadata": {},
   "outputs": [],
   "source": [
    "bydayOnt = df[df['date'] >= '2020-03-01'].groupby('date')['date'].count()"
   ]
  },
  {
   "cell_type": "code",
   "execution_count": 20,
   "metadata": {},
   "outputs": [
    {
     "data": {
      "image/png": "[encoded data removed]",
      "text/plain": [
       "<Figure size 1224x288 with 2 Axes>"
      ]
     },
     "metadata": {
      "needs_background": "light"
     },
     "output_type": "display_data"
    }
   ],
   "source": [
    "f = plt.figure(figsize=(17,4))\n",
    "\n",
    "ax1 = f.add_subplot(121)\n",
    "ax2 = f.add_subplot(122)\n",
    "\n",
    "ax1.scatter(long, lat, s=size, alpha=0.7, color='orange', label='Size = # of Positive Confirmed Residents')\n",
    "ax1.set_xlabel('Longitude', fontsize=12)  # Add an x-label to the axes.\n",
    "ax1.set_ylabel('Latitude', fontsize=12)  # Add a y-label to the axes.\n",
    "ax1.set_title('Confirmed positive cases of COVID-19 per City in Ontario until ' + str(lastdate), fontsize=12);  # Add a title to the axes.\n",
    "ax1.legend()\n",
    "\n",
    "ax2.barh(cityname.index, cityname.values) #, color=['red', 'yellow', 'green'])\n",
    "ax2.set_xlabel('Number of residents', fontsize=14)  # Add an x-label to the axes.\n",
    "ax2.set_ylabel('City', fontsize=14)  # Add a y-label to the axes.\n",
    "ax2.set_title('Confirmed positive cases of COVID-19 per City in Ontario until ' + str(lastdate), fontsize=12);  # Add a title to the to the axes"
   ]
  },
  {
   "cell_type": "code",
   "execution_count": 21,
   "metadata": {},
   "outputs": [
    {
     "data": {
      "image/png": "[encoded data removed]",
      "text/plain": [
       "<Figure size 1008x288 with 2 Axes>"
      ]
     },
     "metadata": {
      "needs_background": "light"
     },
     "output_type": "display_data"
    }
   ],
   "source": [
    "#plt.figure(figsize=(12,4))\n",
    "#fig, (ax1, ax2) = plt.subplots(1, 2)\n",
    "f = plt.figure(figsize=(14,4))\n",
    "\n",
    "ax1 = f.add_subplot(121)\n",
    "ax2 = f.add_subplot(122)\n",
    "\n",
    "ax1.bar(outcome.index, outcome.values, color=['red', 'yellow', 'green'])\n",
    "ax1.set_xlabel('Outcome', fontsize=14)  # Add an x-label to the axes.\n",
    "ax1.set_ylabel('Number of residents', fontsize=14)  # Add a y-label to the axes.\n",
    "ax1.set_title('Outcome in Toronto until ' + str(lastdate), fontsize=14);  # Add a title to the axes.\n",
    "\n",
    "ax2.bar(outcomeOnt.index, outcomeOnt.values, color=['red', 'yellow', 'green'])\n",
    "ax2.set_xlabel('Outcome', fontsize=14)  # Add an x-label to the axes.\n",
    "ax2.set_ylabel('Number of residents', fontsize=14)  # Add a y-label to the axes.\n",
    "ax2.set_title('Outcome in Ontario until ' + str(lastdateOnt), fontsize=14);  # Add a title to the axes."
   ]
  },
  {
   "cell_type": "code",
   "execution_count": 22,
   "metadata": {},
   "outputs": [
    {
     "data": {
      "image/png": "[encoded data removed]",
      "text/plain": [
       "<Figure size 1152x288 with 2 Axes>"
      ]
     },
     "metadata": {
      "needs_background": "light"
     },
     "output_type": "display_data"
    }
   ],
   "source": [
    "f = plt.figure(figsize=(16,4))\n",
    "\n",
    "ax1 = f.add_subplot(121)\n",
    "ax2 = f.add_subplot(122)\n",
    "\n",
    "ax1.bar(agegrp.index, agegrp.values) #, color=['red', 'yellow', 'green'])\n",
    "ax1.set_xlabel('Age Groups', fontsize=14)  # Add an x-label to the axes.\n",
    "ax1.set_ylabel('Number of residents', fontsize=14)  # Add a y-label to the axes.\n",
    "ax1.set_title('Confirmed positive cases of COVID-19 by Age in Toronto until ' + str(lastdate), fontsize=12);  # Add a title to the axes.\n",
    "\n",
    "ax2.bar(agegrpOnt.index, agegrpOnt.values, color='orange')\n",
    "ax2.set_xlabel('Age Groups', fontsize=14)  # Add an x-label to the axes.\n",
    "ax2.set_ylabel('Number of residents', fontsize=14)  # Add a y-label to the axes.\n",
    "ax2.set_title('Confirmed positive cases of COVID-19 by Age in Ontario until' + str(lastdateOnt), fontsize=12);  # Add a title to the axes."
   ]
  },
  {
   "cell_type": "code",
   "execution_count": 23,
   "metadata": {},
   "outputs": [
    {
     "name": "stderr",
     "output_type": "stream",
     "text": [
      "/Users/alexandredietrich/anaconda3/envs/uwaterloo/lib/python3.7/site-packages/pandas/plotting/_matplotlib/converter.py:102: FutureWarning: Using an implicitly registered datetime converter for a matplotlib plotting method. The converter was registered by pandas on import. Future versions of pandas will require you to explicitly register matplotlib converters.\n",
      "\n",
      "To register the converters:\n",
      "\t>>> from pandas.plotting import register_matplotlib_converters\n",
      "\t>>> register_matplotlib_converters()\n",
      "  warnings.warn(msg, FutureWarning)\n"
     ]
    },
    {
     "data": {
      "image/png": "[encoded data removed]",
      "text/plain": [
       "<Figure size 1152x288 with 2 Axes>"
      ]
     },
     "metadata": {
      "needs_background": "light"
     },
     "output_type": "display_data"
    }
   ],
   "source": [
    "xticks = ['2020-03-01', '2020-03-15', '2020-03-31', lastdate]\n",
    "xticksOnt = ['2020-03-01', '2020-03-15', '2020-03-31', lastdateOnt]\n",
    "\n",
    "f = plt.figure(figsize=(16,4))\n",
    "\n",
    "\n",
    "ax1 = f.add_subplot(121)\n",
    "ax2 = f.add_subplot(122)\n",
    "\n",
    "xticksOnt = ['2020-03-01', '2020-03-15', lastdateOnt]\n",
    "\n",
    "ax1.bar(cumulative.index, cumulative.values) #, color=['red', 'yellow', 'green'])\n",
    "ax1.set_xlabel('Date', fontsize=14)  # Add an x-label to the axes.\n",
    "ax1.set_ylabel('Number of residents', fontsize=14)  # Add a y-label to the axes.\n",
    "ax1.set_title('Cumulative confirmed positive cases of COVID-19 in Toronto until' + str(lastdate), fontsize=12)  # Add a title to the axes.\n",
    "ax1.set_xticks(xticks);\n",
    "\n",
    "ax2.bar(cumulativeOnt.index, cumulativeOnt.values) #, color=['red', 'yellow', 'green'])\n",
    "ax2.set_xlabel('Date', fontsize=14)  # Add an x-label to the axes.\n",
    "ax2.set_ylabel('Number of residents', fontsize=14)  # Add a y-label to the axes.\n",
    "ax2.set_title('Cumulative confirmed positive cases of COVID-19 in Ontario until ' + str(lastdateOnt), fontsize=12)  # Add a title to the axes.\n",
    "ax2.set_xticks(xticksOnt);"
   ]
  },
  {
   "cell_type": "code",
   "execution_count": 24,
   "metadata": {},
   "outputs": [
    {
     "data": {
      "image/png": "[encoded data removed]",
      "text/plain": [
       "<Figure size 1152x288 with 2 Axes>"
      ]
     },
     "metadata": {
      "needs_background": "light"
     },
     "output_type": "display_data"
    }
   ],
   "source": [
    "f = plt.figure(figsize=(16,4))\n",
    "\n",
    "ax1 = f.add_subplot(121)\n",
    "ax2 = f.add_subplot(122)\n",
    "\n",
    "ax1.bar(byday.index, byday.values) #, color=['red', 'yellow', 'green'])\n",
    "ax1.set_xlabel('Date', fontsize=14)  # Add an x-label to the axes.\n",
    "ax1.set_ylabel('Number of residents', fontsize=14)  # Add a y-label to the axes.\n",
    "ax1.set_title('Daily confirmed positive cases of COVID-19 in Toronto until ' + str(lastdate), fontsize=12)  # Add a title to the axes.\n",
    "ax1.set_xticks(xticks);\n",
    "\n",
    "ax2.bar(bydayOnt.index, bydayOnt.values, color='orange')\n",
    "ax2.set_xlabel('Date', fontsize=14)  # Add an x-label to the axes.\n",
    "ax2.set_ylabel('Number of residents', fontsize=14)  # Add a y-label to the axes.\n",
    "ax2.set_title('Daily confirmed positive cases of COVID-19 in Ontario until ' + str(lastdateOnt), fontsize=12)  # Add a title to the axes.\n",
    "ax2.set_xticks(xticksOnt);"
   ]
  },
  {
   "cell_type": "markdown",
   "metadata": {},
   "source": [
    "## Dataset: Status of COVID-19 cases in Ontario"
   ]
  },
  {
   "cell_type": "code",
   "execution_count": 25,
   "metadata": {},
   "outputs": [
    {
     "data": {
      "text/html": [
       "<div>\n",
       "<style scoped>\n",
       "    .dataframe tbody tr th:only-of-type {\n",
       "        vertical-align: middle;\n",
       "    }\n",
       "\n",
       "    .dataframe tbody tr th {\n",
       "        vertical-align: top;\n",
       "    }\n",
       "\n",
       "    .dataframe thead th {\n",
       "        text-align: right;\n",
       "    }\n",
       "</style>\n",
       "<table border=\"1\" class=\"dataframe\">\n",
       "  <thead>\n",
       "    <tr style=\"text-align: right;\">\n",
       "      <th></th>\n",
       "      <th>Reported Date</th>\n",
       "      <th>Confirmed Negative</th>\n",
       "      <th>Presumptive Negative</th>\n",
       "      <th>Presumptive Positive</th>\n",
       "      <th>Confirmed Positive</th>\n",
       "      <th>Resolved</th>\n",
       "      <th>Deaths</th>\n",
       "      <th>Total Cases</th>\n",
       "      <th>Total patients approved for testing as of Reporting Date</th>\n",
       "      <th>Total tests completed in the last day</th>\n",
       "      <th>Under Investigation</th>\n",
       "      <th>Number of patients hospitalized with COVID-19</th>\n",
       "      <th>Number of patients in ICU with COVID-19</th>\n",
       "      <th>Number of patients in ICU on a ventilator with COVID-19</th>\n",
       "    </tr>\n",
       "  </thead>\n",
       "  <tbody>\n",
       "    <tr>\n",
       "      <th>66</th>\n",
       "      <td>2020-04-12</td>\n",
       "      <td>NaN</td>\n",
       "      <td>NaN</td>\n",
       "      <td>NaN</td>\n",
       "      <td>3654.0</td>\n",
       "      <td>3121.0</td>\n",
       "      <td>274.0</td>\n",
       "      <td>7049.0</td>\n",
       "      <td>103165.0</td>\n",
       "      <td>NaN</td>\n",
       "      <td>1619</td>\n",
       "      <td>738.0</td>\n",
       "      <td>261.0</td>\n",
       "      <td>196.0</td>\n",
       "    </tr>\n",
       "    <tr>\n",
       "      <th>67</th>\n",
       "      <td>2020-04-13</td>\n",
       "      <td>NaN</td>\n",
       "      <td>NaN</td>\n",
       "      <td>NaN</td>\n",
       "      <td>3822.0</td>\n",
       "      <td>3357.0</td>\n",
       "      <td>291.0</td>\n",
       "      <td>7470.0</td>\n",
       "      <td>108230.0</td>\n",
       "      <td>NaN</td>\n",
       "      <td>1534</td>\n",
       "      <td>760.0</td>\n",
       "      <td>263.0</td>\n",
       "      <td>203.0</td>\n",
       "    </tr>\n",
       "    <tr>\n",
       "      <th>68</th>\n",
       "      <td>2020-04-14</td>\n",
       "      <td>NaN</td>\n",
       "      <td>NaN</td>\n",
       "      <td>NaN</td>\n",
       "      <td>4051.0</td>\n",
       "      <td>3568.0</td>\n",
       "      <td>334.0</td>\n",
       "      <td>7953.0</td>\n",
       "      <td>113082.0</td>\n",
       "      <td>NaN</td>\n",
       "      <td>2107</td>\n",
       "      <td>769.0</td>\n",
       "      <td>255.0</td>\n",
       "      <td>199.0</td>\n",
       "    </tr>\n",
       "    <tr>\n",
       "      <th>69</th>\n",
       "      <td>2020-04-15</td>\n",
       "      <td>NaN</td>\n",
       "      <td>NaN</td>\n",
       "      <td>NaN</td>\n",
       "      <td>4160.0</td>\n",
       "      <td>3902.0</td>\n",
       "      <td>385.0</td>\n",
       "      <td>8447.0</td>\n",
       "      <td>119092.0</td>\n",
       "      <td>6010.0</td>\n",
       "      <td>4429</td>\n",
       "      <td>795.0</td>\n",
       "      <td>254.0</td>\n",
       "      <td>188.0</td>\n",
       "    </tr>\n",
       "    <tr>\n",
       "      <th>70</th>\n",
       "      <td>2020-04-16</td>\n",
       "      <td>NaN</td>\n",
       "      <td>NaN</td>\n",
       "      <td>NaN</td>\n",
       "      <td>4344.0</td>\n",
       "      <td>4194.0</td>\n",
       "      <td>423.0</td>\n",
       "      <td>8961.0</td>\n",
       "      <td>128093.0</td>\n",
       "      <td>9001.0</td>\n",
       "      <td>4323</td>\n",
       "      <td>807.0</td>\n",
       "      <td>248.0</td>\n",
       "      <td>200.0</td>\n",
       "    </tr>\n",
       "  </tbody>\n",
       "</table>\n",
       "</div>"
      ],
      "text/plain": [
       "   Reported Date  Confirmed Negative  Presumptive Negative  \\\n",
       "66    2020-04-12                 NaN                   NaN   \n",
       "67    2020-04-13                 NaN                   NaN   \n",
       "68    2020-04-14                 NaN                   NaN   \n",
       "69    2020-04-15                 NaN                   NaN   \n",
       "70    2020-04-16                 NaN                   NaN   \n",
       "\n",
       "    Presumptive Positive  Confirmed Positive  Resolved  Deaths  Total Cases  \\\n",
       "66                   NaN              3654.0    3121.0   274.0       7049.0   \n",
       "67                   NaN              3822.0    3357.0   291.0       7470.0   \n",
       "68                   NaN              4051.0    3568.0   334.0       7953.0   \n",
       "69                   NaN              4160.0    3902.0   385.0       8447.0   \n",
       "70                   NaN              4344.0    4194.0   423.0       8961.0   \n",
       "\n",
       "    Total patients approved for testing as of Reporting Date  \\\n",
       "66                                           103165.0          \n",
       "67                                           108230.0          \n",
       "68                                           113082.0          \n",
       "69                                           119092.0          \n",
       "70                                           128093.0          \n",
       "\n",
       "    Total tests completed in the last day  Under Investigation  \\\n",
       "66                                    NaN                 1619   \n",
       "67                                    NaN                 1534   \n",
       "68                                    NaN                 2107   \n",
       "69                                 6010.0                 4429   \n",
       "70                                 9001.0                 4323   \n",
       "\n",
       "    Number of patients hospitalized with COVID-19  \\\n",
       "66                                          738.0   \n",
       "67                                          760.0   \n",
       "68                                          769.0   \n",
       "69                                          795.0   \n",
       "70                                          807.0   \n",
       "\n",
       "    Number of patients in ICU with COVID-19  \\\n",
       "66                                    261.0   \n",
       "67                                    263.0   \n",
       "68                                    255.0   \n",
       "69                                    254.0   \n",
       "70                                    248.0   \n",
       "\n",
       "    Number of patients in ICU on a ventilator with COVID-19  \n",
       "66                                              196.0        \n",
       "67                                              203.0        \n",
       "68                                              199.0        \n",
       "69                                              188.0        \n",
       "70                                              200.0        "
      ]
     },
     "execution_count": 25,
     "metadata": {},
     "output_type": "execute_result"
    }
   ],
   "source": [
    "df1 = pd.read_csv(\"covidtesting.csv\")\n",
    "df1.tail()"
   ]
  },
  {
   "cell_type": "code",
   "execution_count": 26,
   "metadata": {},
   "outputs": [
    {
     "name": "stdout",
     "output_type": "stream",
     "text": [
      "<class 'pandas.core.frame.DataFrame'>\n",
      "RangeIndex: 71 entries, 0 to 70\n",
      "Data columns (total 14 columns):\n",
      "Reported Date                                               71 non-null object\n",
      "Confirmed Negative                                          47 non-null float64\n",
      "Presumptive Negative                                        12 non-null float64\n",
      "Presumptive Positive                                        25 non-null float64\n",
      "Confirmed Positive                                          69 non-null float64\n",
      "Resolved                                                    59 non-null float64\n",
      "Deaths                                                      31 non-null float64\n",
      "Total Cases                                                 69 non-null float64\n",
      "Total patients approved for testing as of Reporting Date    65 non-null float64\n",
      "Total tests completed in the last day                       2 non-null float64\n",
      "Under Investigation                                         71 non-null int64\n",
      "Number of patients hospitalized with COVID-19               15 non-null float64\n",
      "Number of patients in ICU with COVID-19                     15 non-null float64\n",
      "Number of patients in ICU on a ventilator with COVID-19     15 non-null float64\n",
      "dtypes: float64(12), int64(1), object(1)\n",
      "memory usage: 7.9+ KB\n"
     ]
    }
   ],
   "source": [
    "df1.info()"
   ]
  },
  {
   "cell_type": "code",
   "execution_count": 27,
   "metadata": {},
   "outputs": [
    {
     "name": "stdout",
     "output_type": "stream",
     "text": [
      "<class 'pandas.core.frame.DataFrame'>\n",
      "RangeIndex: 71 entries, 0 to 70\n",
      "Data columns (total 14 columns):\n",
      "date            71 non-null object\n",
      "confneg         47 non-null float64\n",
      "presneg         12 non-null float64\n",
      "prespos         25 non-null float64\n",
      "confpos         69 non-null float64\n",
      "resolved        59 non-null float64\n",
      "deaths          31 non-null float64\n",
      "totcases        69 non-null float64\n",
      "approvedtest    65 non-null float64\n",
      "tested          2 non-null float64\n",
      "underinvest     71 non-null int64\n",
      "numpathosp      15 non-null float64\n",
      "numpatICU       15 non-null float64\n",
      "numpatventil    15 non-null float64\n",
      "dtypes: float64(12), int64(1), object(1)\n",
      "memory usage: 7.9+ KB\n"
     ]
    }
   ],
   "source": [
    "df1.columns = ['date', 'confneg', 'presneg',  'prespos', 'confpos', 'resolved', 'deaths',  'totcases',\n",
    "               'approvedtest', 'tested','underinvest', 'numpathosp', 'numpatICU', 'numpatventil']\n",
    "df1.info()"
   ]
  },
  {
   "cell_type": "code",
   "execution_count": 28,
   "metadata": {},
   "outputs": [],
   "source": [
    "df1['date'] = pd.to_datetime(df1['date'], infer_datetime_format=True)\n",
    "df1['pctchange'] = df1['totcases'].pct_change()\n",
    "df1['dailycases'] = df1['totcases'].diff()"
   ]
  },
  {
   "cell_type": "code",
   "execution_count": 29,
   "metadata": {},
   "outputs": [
    {
     "data": {
      "text/html": [
       "<div>\n",
       "<style scoped>\n",
       "    .dataframe tbody tr th:only-of-type {\n",
       "        vertical-align: middle;\n",
       "    }\n",
       "\n",
       "    .dataframe tbody tr th {\n",
       "        vertical-align: top;\n",
       "    }\n",
       "\n",
       "    .dataframe thead th {\n",
       "        text-align: right;\n",
       "    }\n",
       "</style>\n",
       "<table border=\"1\" class=\"dataframe\">\n",
       "  <thead>\n",
       "    <tr style=\"text-align: right;\">\n",
       "      <th></th>\n",
       "      <th>date</th>\n",
       "      <th>confneg</th>\n",
       "      <th>presneg</th>\n",
       "      <th>prespos</th>\n",
       "      <th>confpos</th>\n",
       "      <th>resolved</th>\n",
       "      <th>deaths</th>\n",
       "      <th>totcases</th>\n",
       "      <th>approvedtest</th>\n",
       "      <th>tested</th>\n",
       "      <th>underinvest</th>\n",
       "      <th>numpathosp</th>\n",
       "      <th>numpatICU</th>\n",
       "      <th>numpatventil</th>\n",
       "      <th>pctchange</th>\n",
       "      <th>dailycases</th>\n",
       "    </tr>\n",
       "  </thead>\n",
       "  <tbody>\n",
       "    <tr>\n",
       "      <th>66</th>\n",
       "      <td>2020-04-12</td>\n",
       "      <td>NaN</td>\n",
       "      <td>NaN</td>\n",
       "      <td>NaN</td>\n",
       "      <td>3654.0</td>\n",
       "      <td>3121.0</td>\n",
       "      <td>274.0</td>\n",
       "      <td>7049.0</td>\n",
       "      <td>103165.0</td>\n",
       "      <td>NaN</td>\n",
       "      <td>1619</td>\n",
       "      <td>738.0</td>\n",
       "      <td>261.0</td>\n",
       "      <td>196.0</td>\n",
       "      <td>0.060319</td>\n",
       "      <td>401.0</td>\n",
       "    </tr>\n",
       "    <tr>\n",
       "      <th>67</th>\n",
       "      <td>2020-04-13</td>\n",
       "      <td>NaN</td>\n",
       "      <td>NaN</td>\n",
       "      <td>NaN</td>\n",
       "      <td>3822.0</td>\n",
       "      <td>3357.0</td>\n",
       "      <td>291.0</td>\n",
       "      <td>7470.0</td>\n",
       "      <td>108230.0</td>\n",
       "      <td>NaN</td>\n",
       "      <td>1534</td>\n",
       "      <td>760.0</td>\n",
       "      <td>263.0</td>\n",
       "      <td>203.0</td>\n",
       "      <td>0.059725</td>\n",
       "      <td>421.0</td>\n",
       "    </tr>\n",
       "    <tr>\n",
       "      <th>68</th>\n",
       "      <td>2020-04-14</td>\n",
       "      <td>NaN</td>\n",
       "      <td>NaN</td>\n",
       "      <td>NaN</td>\n",
       "      <td>4051.0</td>\n",
       "      <td>3568.0</td>\n",
       "      <td>334.0</td>\n",
       "      <td>7953.0</td>\n",
       "      <td>113082.0</td>\n",
       "      <td>NaN</td>\n",
       "      <td>2107</td>\n",
       "      <td>769.0</td>\n",
       "      <td>255.0</td>\n",
       "      <td>199.0</td>\n",
       "      <td>0.064659</td>\n",
       "      <td>483.0</td>\n",
       "    </tr>\n",
       "    <tr>\n",
       "      <th>69</th>\n",
       "      <td>2020-04-15</td>\n",
       "      <td>NaN</td>\n",
       "      <td>NaN</td>\n",
       "      <td>NaN</td>\n",
       "      <td>4160.0</td>\n",
       "      <td>3902.0</td>\n",
       "      <td>385.0</td>\n",
       "      <td>8447.0</td>\n",
       "      <td>119092.0</td>\n",
       "      <td>6010.0</td>\n",
       "      <td>4429</td>\n",
       "      <td>795.0</td>\n",
       "      <td>254.0</td>\n",
       "      <td>188.0</td>\n",
       "      <td>0.062115</td>\n",
       "      <td>494.0</td>\n",
       "    </tr>\n",
       "    <tr>\n",
       "      <th>70</th>\n",
       "      <td>2020-04-16</td>\n",
       "      <td>NaN</td>\n",
       "      <td>NaN</td>\n",
       "      <td>NaN</td>\n",
       "      <td>4344.0</td>\n",
       "      <td>4194.0</td>\n",
       "      <td>423.0</td>\n",
       "      <td>8961.0</td>\n",
       "      <td>128093.0</td>\n",
       "      <td>9001.0</td>\n",
       "      <td>4323</td>\n",
       "      <td>807.0</td>\n",
       "      <td>248.0</td>\n",
       "      <td>200.0</td>\n",
       "      <td>0.060850</td>\n",
       "      <td>514.0</td>\n",
       "    </tr>\n",
       "  </tbody>\n",
       "</table>\n",
       "</div>"
      ],
      "text/plain": [
       "         date  confneg  presneg  prespos  confpos  resolved  deaths  totcases  \\\n",
       "66 2020-04-12      NaN      NaN      NaN   3654.0    3121.0   274.0    7049.0   \n",
       "67 2020-04-13      NaN      NaN      NaN   3822.0    3357.0   291.0    7470.0   \n",
       "68 2020-04-14      NaN      NaN      NaN   4051.0    3568.0   334.0    7953.0   \n",
       "69 2020-04-15      NaN      NaN      NaN   4160.0    3902.0   385.0    8447.0   \n",
       "70 2020-04-16      NaN      NaN      NaN   4344.0    4194.0   423.0    8961.0   \n",
       "\n",
       "    approvedtest  tested  underinvest  numpathosp  numpatICU  numpatventil  \\\n",
       "66      103165.0     NaN         1619       738.0      261.0         196.0   \n",
       "67      108230.0     NaN         1534       760.0      263.0         203.0   \n",
       "68      113082.0     NaN         2107       769.0      255.0         199.0   \n",
       "69      119092.0  6010.0         4429       795.0      254.0         188.0   \n",
       "70      128093.0  9001.0         4323       807.0      248.0         200.0   \n",
       "\n",
       "    pctchange  dailycases  \n",
       "66   0.060319       401.0  \n",
       "67   0.059725       421.0  \n",
       "68   0.064659       483.0  \n",
       "69   0.062115       494.0  \n",
       "70   0.060850       514.0  "
      ]
     },
     "execution_count": 29,
     "metadata": {},
     "output_type": "execute_result"
    }
   ],
   "source": [
    "df1.tail()"
   ]
  },
  {
   "cell_type": "code",
   "execution_count": 30,
   "metadata": {},
   "outputs": [
    {
     "name": "stdout",
     "output_type": "stream",
     "text": [
      "2020-04-16\n"
     ]
    },
    {
     "data": {
      "text/html": [
       "<div>\n",
       "<style scoped>\n",
       "    .dataframe tbody tr th:only-of-type {\n",
       "        vertical-align: middle;\n",
       "    }\n",
       "\n",
       "    .dataframe tbody tr th {\n",
       "        vertical-align: top;\n",
       "    }\n",
       "\n",
       "    .dataframe thead th {\n",
       "        text-align: right;\n",
       "    }\n",
       "</style>\n",
       "<table border=\"1\" class=\"dataframe\">\n",
       "  <thead>\n",
       "    <tr style=\"text-align: right;\">\n",
       "      <th></th>\n",
       "      <th>date</th>\n",
       "      <th>totcases</th>\n",
       "      <th>tested</th>\n",
       "      <th>deaths</th>\n",
       "      <th>resolved</th>\n",
       "    </tr>\n",
       "  </thead>\n",
       "  <tbody>\n",
       "    <tr>\n",
       "      <th>66</th>\n",
       "      <td>2020-04-12</td>\n",
       "      <td>7049.0</td>\n",
       "      <td>NaN</td>\n",
       "      <td>274.0</td>\n",
       "      <td>3121.0</td>\n",
       "    </tr>\n",
       "    <tr>\n",
       "      <th>67</th>\n",
       "      <td>2020-04-13</td>\n",
       "      <td>7470.0</td>\n",
       "      <td>NaN</td>\n",
       "      <td>291.0</td>\n",
       "      <td>3357.0</td>\n",
       "    </tr>\n",
       "    <tr>\n",
       "      <th>68</th>\n",
       "      <td>2020-04-14</td>\n",
       "      <td>7953.0</td>\n",
       "      <td>NaN</td>\n",
       "      <td>334.0</td>\n",
       "      <td>3568.0</td>\n",
       "    </tr>\n",
       "    <tr>\n",
       "      <th>69</th>\n",
       "      <td>2020-04-15</td>\n",
       "      <td>8447.0</td>\n",
       "      <td>6010.0</td>\n",
       "      <td>385.0</td>\n",
       "      <td>3902.0</td>\n",
       "    </tr>\n",
       "    <tr>\n",
       "      <th>70</th>\n",
       "      <td>2020-04-16</td>\n",
       "      <td>8961.0</td>\n",
       "      <td>9001.0</td>\n",
       "      <td>423.0</td>\n",
       "      <td>4194.0</td>\n",
       "    </tr>\n",
       "  </tbody>\n",
       "</table>\n",
       "</div>"
      ],
      "text/plain": [
       "         date  totcases  tested  deaths  resolved\n",
       "66 2020-04-12    7049.0     NaN   274.0    3121.0\n",
       "67 2020-04-13    7470.0     NaN   291.0    3357.0\n",
       "68 2020-04-14    7953.0     NaN   334.0    3568.0\n",
       "69 2020-04-15    8447.0  6010.0   385.0    3902.0\n",
       "70 2020-04-16    8961.0  9001.0   423.0    4194.0"
      ]
     },
     "execution_count": 30,
     "metadata": {},
     "output_type": "execute_result"
    }
   ],
   "source": [
    "totcasesOnt = df1[df1['date'] >= '2020-03-01'][['date', 'totcases', 'tested', 'deaths', 'resolved']]\n",
    "lastdateOnt1 = df1['date'].max().date()\n",
    "print(lastdateOnt1)\n",
    "totcasesOnt.tail()"
   ]
  },
  {
   "cell_type": "code",
   "execution_count": 31,
   "metadata": {},
   "outputs": [
    {
     "data": {
      "text/html": [
       "<div>\n",
       "<style scoped>\n",
       "    .dataframe tbody tr th:only-of-type {\n",
       "        vertical-align: middle;\n",
       "    }\n",
       "\n",
       "    .dataframe tbody tr th {\n",
       "        vertical-align: top;\n",
       "    }\n",
       "\n",
       "    .dataframe thead th {\n",
       "        text-align: right;\n",
       "    }\n",
       "</style>\n",
       "<table border=\"1\" class=\"dataframe\">\n",
       "  <thead>\n",
       "    <tr style=\"text-align: right;\">\n",
       "      <th></th>\n",
       "      <th>date</th>\n",
       "      <th>numpathosp</th>\n",
       "      <th>numpatICU</th>\n",
       "      <th>numpatventil</th>\n",
       "    </tr>\n",
       "  </thead>\n",
       "  <tbody>\n",
       "    <tr>\n",
       "      <th>66</th>\n",
       "      <td>2020-04-12</td>\n",
       "      <td>738.0</td>\n",
       "      <td>261.0</td>\n",
       "      <td>196.0</td>\n",
       "    </tr>\n",
       "    <tr>\n",
       "      <th>67</th>\n",
       "      <td>2020-04-13</td>\n",
       "      <td>760.0</td>\n",
       "      <td>263.0</td>\n",
       "      <td>203.0</td>\n",
       "    </tr>\n",
       "    <tr>\n",
       "      <th>68</th>\n",
       "      <td>2020-04-14</td>\n",
       "      <td>769.0</td>\n",
       "      <td>255.0</td>\n",
       "      <td>199.0</td>\n",
       "    </tr>\n",
       "    <tr>\n",
       "      <th>69</th>\n",
       "      <td>2020-04-15</td>\n",
       "      <td>795.0</td>\n",
       "      <td>254.0</td>\n",
       "      <td>188.0</td>\n",
       "    </tr>\n",
       "    <tr>\n",
       "      <th>70</th>\n",
       "      <td>2020-04-16</td>\n",
       "      <td>807.0</td>\n",
       "      <td>248.0</td>\n",
       "      <td>200.0</td>\n",
       "    </tr>\n",
       "  </tbody>\n",
       "</table>\n",
       "</div>"
      ],
      "text/plain": [
       "         date  numpathosp  numpatICU  numpatventil\n",
       "66 2020-04-12       738.0      261.0         196.0\n",
       "67 2020-04-13       760.0      263.0         203.0\n",
       "68 2020-04-14       769.0      255.0         199.0\n",
       "69 2020-04-15       795.0      254.0         188.0\n",
       "70 2020-04-16       807.0      248.0         200.0"
      ]
     },
     "execution_count": 31,
     "metadata": {},
     "output_type": "execute_result"
    }
   ],
   "source": [
    "numpathospOnt = df1[df1['date'] >= '2020-03-31'][['date', 'numpathosp', 'numpatICU', 'numpatventil']]\n",
    "numpathospOnt.tail()"
   ]
  },
  {
   "cell_type": "code",
   "execution_count": 32,
   "metadata": {},
   "outputs": [
    {
     "data": {
      "text/html": [
       "<div>\n",
       "<style scoped>\n",
       "    .dataframe tbody tr th:only-of-type {\n",
       "        vertical-align: middle;\n",
       "    }\n",
       "\n",
       "    .dataframe tbody tr th {\n",
       "        vertical-align: top;\n",
       "    }\n",
       "\n",
       "    .dataframe thead th {\n",
       "        text-align: right;\n",
       "    }\n",
       "</style>\n",
       "<table border=\"1\" class=\"dataframe\">\n",
       "  <thead>\n",
       "    <tr style=\"text-align: right;\">\n",
       "      <th></th>\n",
       "      <th>date</th>\n",
       "      <th>underinvest</th>\n",
       "      <th>confpos</th>\n",
       "    </tr>\n",
       "  </thead>\n",
       "  <tbody>\n",
       "    <tr>\n",
       "      <th>66</th>\n",
       "      <td>2020-04-12</td>\n",
       "      <td>1619</td>\n",
       "      <td>3654.0</td>\n",
       "    </tr>\n",
       "    <tr>\n",
       "      <th>67</th>\n",
       "      <td>2020-04-13</td>\n",
       "      <td>1534</td>\n",
       "      <td>3822.0</td>\n",
       "    </tr>\n",
       "    <tr>\n",
       "      <th>68</th>\n",
       "      <td>2020-04-14</td>\n",
       "      <td>2107</td>\n",
       "      <td>4051.0</td>\n",
       "    </tr>\n",
       "    <tr>\n",
       "      <th>69</th>\n",
       "      <td>2020-04-15</td>\n",
       "      <td>4429</td>\n",
       "      <td>4160.0</td>\n",
       "    </tr>\n",
       "    <tr>\n",
       "      <th>70</th>\n",
       "      <td>2020-04-16</td>\n",
       "      <td>4323</td>\n",
       "      <td>4344.0</td>\n",
       "    </tr>\n",
       "  </tbody>\n",
       "</table>\n",
       "</div>"
      ],
      "text/plain": [
       "         date  underinvest  confpos\n",
       "66 2020-04-12         1619   3654.0\n",
       "67 2020-04-13         1534   3822.0\n",
       "68 2020-04-14         2107   4051.0\n",
       "69 2020-04-15         4429   4160.0\n",
       "70 2020-04-16         4323   4344.0"
      ]
     },
     "execution_count": 32,
     "metadata": {},
     "output_type": "execute_result"
    }
   ],
   "source": [
    "confposOnt = df1[df1['date'] >= '2020-03-01'][['date', 'underinvest','confpos']]\n",
    "confposOnt.tail()"
   ]
  },
  {
   "cell_type": "code",
   "execution_count": 33,
   "metadata": {},
   "outputs": [
    {
     "data": {
      "image/png": "[encoded data removed]",
      "text/plain": [
       "<Figure size 1152x432 with 2 Axes>"
      ]
     },
     "metadata": {
      "needs_background": "light"
     },
     "output_type": "display_data"
    }
   ],
   "source": [
    "xticksOnt1 = ['2020-03-01', '2020-03-15', lastdateOnt1]\n",
    "\n",
    "f = plt.figure(figsize=(16,6))\n",
    "\n",
    "ax1 = f.add_subplot(121)\n",
    "ax2 = f.add_subplot(122)\n",
    "\n",
    "ax1.bar(totcasesOnt['date'], totcasesOnt['totcases'], color='orange')\n",
    "ax1.set_xlabel('Date', fontsize=14)  # Add an x-label to the axes.\n",
    "ax1.set_ylabel('Number of residents', fontsize=14)  # Add a y-label to the axes.\n",
    "ax1.set_title('Confirmed cases in Ontario until ' + str(lastdateOnt1), fontsize=14);  # Add a title to the axes.\n",
    "ax1.set_xticks(xticksOnt1);\n",
    "\n",
    "ax2.bar(totcasesOnt['date'], totcasesOnt['tested']) #, color=['red', 'yellow', 'green'])\n",
    "ax2.set_xlabel('Date', fontsize=14)  # Add an x-label to the axes.\n",
    "ax2.set_ylabel('Number of residents', fontsize=14)  # Add a y-label to the axes.\n",
    "ax2.set_title('Residents Tested in Ontario until ' + str(lastdateOnt1), fontsize=14);  # Add a title to the axes.\n",
    "ax2.set_xticks(xticksOnt1);"
   ]
  },
  {
   "cell_type": "code",
   "execution_count": 34,
   "metadata": {},
   "outputs": [
    {
     "data": {
      "image/png": "[encoded data removed]",
      "text/plain": [
       "<Figure size 1152x864 with 4 Axes>"
      ]
     },
     "metadata": {
      "needs_background": "light"
     },
     "output_type": "display_data"
    }
   ],
   "source": [
    "xticksOnt1 = ['2020-03-01', '2020-03-20', lastdateOnt1]\n",
    "\n",
    "f = plt.figure(figsize=(16,12))\n",
    "\n",
    "ax1 = f.add_subplot(221)\n",
    "ax2 = f.add_subplot(222)\n",
    "ax3 = f.add_subplot(223)\n",
    "ax4 = f.add_subplot(224)\n",
    "\n",
    "ax1.bar(totcasesOnt['date'], totcasesOnt['deaths'], color='red')\n",
    "ax1.set_xlabel('Date', fontsize=14)  # Add an x-label to the axes.\n",
    "ax1.set_ylabel('Number of residents', fontsize=14)  # Add a y-label to the axes.\n",
    "ax1.set_title('Number of Deaths in Ontario until ' + str(lastdateOnt1), fontsize=14);  # Add a title to the axes.\n",
    "ax1.set_xticks(xticksOnt1)\n",
    "\n",
    "ax2.bar(totcasesOnt['date'], totcasesOnt['resolved'], color='green')\n",
    "ax2.set_xlabel('Date', fontsize=14)  # Add an x-label to the axes.\n",
    "ax2.set_ylabel('Number of residents', fontsize=14)  # Add a y-label to the axes.\n",
    "ax2.set_title('Number of Resolved Cases in Ontario until ' + str(lastdateOnt1), fontsize=14);  # Add a title to the axes.\n",
    "ax2.set_xticks(xticksOnt1)\n",
    "\n",
    "ax3.bar(confposOnt['date'], confposOnt['confpos'], color='orange')\n",
    "ax3.set_xlabel('Date', fontsize=14)  # Add an x-label to the axes.\n",
    "ax3.set_ylabel('Number of residents', fontsize=14)  # Add a y-label to the axes.\n",
    "ax3.set_title('Patients Confirmed Positive in Ontario until ' + str(lastdateOnt1), fontsize=14);  # Add a title to the axes.\n",
    "ax3.set_xticks(xticksOnt1)\n",
    "\n",
    "ax4.bar(confposOnt['date'], confposOnt['underinvest']) #, color=['red', 'yellow', 'green'])\n",
    "ax4.set_xlabel('Date', fontsize=14)  # Add an x-label to the axes.\n",
    "ax4.set_ylabel('Number of residents', fontsize=14)  # Add a y-label to the axes.\n",
    "ax4.set_title('Patients Under Investigation in Ontario until ' + str(lastdateOnt1), fontsize=14);  # Add a title to the axes.\n",
    "ax4.set_xticks(xticksOnt1);"
   ]
  },
  {
   "cell_type": "code",
   "execution_count": 35,
   "metadata": {},
   "outputs": [
    {
     "data": {
      "image/png": "[encoded data removed]",
      "text/plain": [
       "<Figure size 1224x360 with 3 Axes>"
      ]
     },
     "metadata": {
      "needs_background": "light"
     },
     "output_type": "display_data"
    }
   ],
   "source": [
    "xticksOnt1 = ['2020-03-31', '2020-04-05', lastdateOnt1]\n",
    "\n",
    "f = plt.figure(figsize=(17,5))\n",
    "\n",
    "ax1 = f.add_subplot(131)\n",
    "ax2 = f.add_subplot(132)\n",
    "ax3 = f.add_subplot(133)\n",
    "\n",
    "ax1.bar(numpathospOnt['date'], numpathospOnt['numpathosp'])\n",
    "ax1.set_xlabel('Date', fontsize=14)  # Add an x-label to the axes.\n",
    "ax1.set_ylabel('Number of residents', fontsize=14)  # Add a y-label to the axes.\n",
    "ax1.set_title('Patients Hospitalized in Ontario until ' + str(lastdateOnt1), fontsize=12);  # Add a title to the axes.\n",
    "ax1.set_xticks(xticksOnt1);\n",
    "\n",
    "ax2.bar(numpathospOnt['date'], numpathospOnt['numpatICU'], color='orange')\n",
    "ax2.set_xlabel('Date', fontsize=14)  # Add an x-label to the axes.\n",
    "ax2.set_ylabel('Number of residents', fontsize=14)  # Add a y-label to the axes.\n",
    "ax2.set_title('Patients in ICU in Ontario until ' + str(lastdateOnt1), fontsize=12);  # Add a title to the axes.\n",
    "ax2.set_xticks(xticksOnt1);\n",
    "\n",
    "ax3.bar(numpathospOnt['date'], numpathospOnt['numpatventil'], color='red')\n",
    "ax3.set_xlabel('Date', fontsize=14)  # Add an x-label to the axes.\n",
    "ax3.set_ylabel('Number of residents', fontsize=14)  # Add a y-label to the axes.\n",
    "ax3.set_title('Patients in Ventilator in Ontario until ' + str(lastdateOnt1), fontsize=12);  # Add a title to the axes.\n",
    "ax3.set_xticks(xticksOnt1);"
   ]
  },
  {
   "cell_type": "markdown",
   "metadata": {},
   "source": [
    "### The progression of the cumulative contamination is different in the two datasets but the numbers are converging"
   ]
  },
  {
   "cell_type": "code",
   "execution_count": 36,
   "metadata": {},
   "outputs": [
    {
     "data": {
      "text/plain": [
       "date\n",
       "2020-03-01      11\n",
       "2020-03-02      25\n",
       "2020-03-03      37\n",
       "2020-03-04      46\n",
       "2020-03-05      68\n",
       "2020-03-06      90\n",
       "2020-03-07     117\n",
       "2020-03-08     159\n",
       "2020-03-09     216\n",
       "2020-03-10     298\n",
       "2020-03-11     381\n",
       "2020-03-12     476\n",
       "2020-03-13     594\n",
       "2020-03-14     711\n",
       "2020-03-15     855\n",
       "2020-03-16    1055\n",
       "2020-03-17    1267\n",
       "2020-03-18    1485\n",
       "2020-03-19    1679\n",
       "2020-03-20    1953\n",
       "2020-03-21    2162\n",
       "2020-03-22    2370\n",
       "2020-03-23    2622\n",
       "2020-03-24    2823\n",
       "2020-03-25    3049\n",
       "2020-03-26    3303\n",
       "2020-03-27    3557\n",
       "2020-03-28    3802\n",
       "2020-03-29    4015\n",
       "2020-03-30    4323\n",
       "2020-03-31    4611\n",
       "2020-04-01    5001\n",
       "2020-04-02    5326\n",
       "2020-04-03    5651\n",
       "2020-04-04    5910\n",
       "2020-04-05    6207\n",
       "2020-04-06    6591\n",
       "2020-04-07    6971\n",
       "2020-04-08    7285\n",
       "2020-04-09    7637\n",
       "2020-04-10    7990\n",
       "2020-04-11    8349\n",
       "2020-04-12    8567\n",
       "2020-04-13    8800\n",
       "2020-04-14    8878\n",
       "2020-04-15    8920\n",
       "Name: date, dtype: int64"
      ]
     },
     "execution_count": 36,
     "metadata": {},
     "output_type": "execute_result"
    }
   ],
   "source": [
    "cases = df[df['date'] >= '2020-03-01'].groupby('date')['date'].count().cumsum()\n",
    "cases"
   ]
  },
  {
   "cell_type": "code",
   "execution_count": 37,
   "metadata": {},
   "outputs": [
    {
     "data": {
      "text/html": [
       "<div>\n",
       "<style scoped>\n",
       "    .dataframe tbody tr th:only-of-type {\n",
       "        vertical-align: middle;\n",
       "    }\n",
       "\n",
       "    .dataframe tbody tr th {\n",
       "        vertical-align: top;\n",
       "    }\n",
       "\n",
       "    .dataframe thead th {\n",
       "        text-align: right;\n",
       "    }\n",
       "</style>\n",
       "<table border=\"1\" class=\"dataframe\">\n",
       "  <thead>\n",
       "    <tr style=\"text-align: right;\">\n",
       "      <th></th>\n",
       "      <th>date</th>\n",
       "      <th>totcases</th>\n",
       "      <th>pctchange</th>\n",
       "      <th>dailycases</th>\n",
       "    </tr>\n",
       "  </thead>\n",
       "  <tbody>\n",
       "    <tr>\n",
       "      <th>61</th>\n",
       "      <td>2020-04-07</td>\n",
       "      <td>4726.0</td>\n",
       "      <td>0.087187</td>\n",
       "      <td>379.0</td>\n",
       "    </tr>\n",
       "    <tr>\n",
       "      <th>62</th>\n",
       "      <td>2020-04-08</td>\n",
       "      <td>5276.0</td>\n",
       "      <td>0.116377</td>\n",
       "      <td>550.0</td>\n",
       "    </tr>\n",
       "    <tr>\n",
       "      <th>63</th>\n",
       "      <td>2020-04-09</td>\n",
       "      <td>5759.0</td>\n",
       "      <td>0.091547</td>\n",
       "      <td>483.0</td>\n",
       "    </tr>\n",
       "    <tr>\n",
       "      <th>64</th>\n",
       "      <td>2020-04-10</td>\n",
       "      <td>6237.0</td>\n",
       "      <td>0.083001</td>\n",
       "      <td>478.0</td>\n",
       "    </tr>\n",
       "    <tr>\n",
       "      <th>65</th>\n",
       "      <td>2020-04-11</td>\n",
       "      <td>6648.0</td>\n",
       "      <td>0.065897</td>\n",
       "      <td>411.0</td>\n",
       "    </tr>\n",
       "    <tr>\n",
       "      <th>66</th>\n",
       "      <td>2020-04-12</td>\n",
       "      <td>7049.0</td>\n",
       "      <td>0.060319</td>\n",
       "      <td>401.0</td>\n",
       "    </tr>\n",
       "    <tr>\n",
       "      <th>67</th>\n",
       "      <td>2020-04-13</td>\n",
       "      <td>7470.0</td>\n",
       "      <td>0.059725</td>\n",
       "      <td>421.0</td>\n",
       "    </tr>\n",
       "    <tr>\n",
       "      <th>68</th>\n",
       "      <td>2020-04-14</td>\n",
       "      <td>7953.0</td>\n",
       "      <td>0.064659</td>\n",
       "      <td>483.0</td>\n",
       "    </tr>\n",
       "    <tr>\n",
       "      <th>69</th>\n",
       "      <td>2020-04-15</td>\n",
       "      <td>8447.0</td>\n",
       "      <td>0.062115</td>\n",
       "      <td>494.0</td>\n",
       "    </tr>\n",
       "    <tr>\n",
       "      <th>70</th>\n",
       "      <td>2020-04-16</td>\n",
       "      <td>8961.0</td>\n",
       "      <td>0.060850</td>\n",
       "      <td>514.0</td>\n",
       "    </tr>\n",
       "  </tbody>\n",
       "</table>\n",
       "</div>"
      ],
      "text/plain": [
       "         date  totcases  pctchange  dailycases\n",
       "61 2020-04-07    4726.0   0.087187       379.0\n",
       "62 2020-04-08    5276.0   0.116377       550.0\n",
       "63 2020-04-09    5759.0   0.091547       483.0\n",
       "64 2020-04-10    6237.0   0.083001       478.0\n",
       "65 2020-04-11    6648.0   0.065897       411.0\n",
       "66 2020-04-12    7049.0   0.060319       401.0\n",
       "67 2020-04-13    7470.0   0.059725       421.0\n",
       "68 2020-04-14    7953.0   0.064659       483.0\n",
       "69 2020-04-15    8447.0   0.062115       494.0\n",
       "70 2020-04-16    8961.0   0.060850       514.0"
      ]
     },
     "execution_count": 37,
     "metadata": {},
     "output_type": "execute_result"
    }
   ],
   "source": [
    "df2 = df1[df1['date'] >= '2020-03-01'][['date', 'totcases', 'pctchange', 'dailycases']]\n",
    "df2.tail(10)"
   ]
  },
  {
   "cell_type": "code",
   "execution_count": 38,
   "metadata": {},
   "outputs": [
    {
     "data": {
      "image/png": "[encoded data removed]",
      "text/plain": [
       "<Figure size 1152x288 with 1 Axes>"
      ]
     },
     "metadata": {
      "needs_background": "light"
     },
     "output_type": "display_data"
    }
   ],
   "source": [
    "xticksOnt1 = ['2020-03-01', '2020-03-15','2020-03-31', lastdateOnt1]\n",
    "\n",
    "f = plt.figure(figsize=(16,4))\n",
    "\n",
    "ax1 = f.add_subplot(121)\n",
    "\n",
    "\n",
    "ax1.plot(cases.index, cases.values, color='orange', label='Positives dataset')\n",
    "ax1.plot(df2['date'], df2['totcases'], color='red', label='Status dataset')\n",
    "ax1.set_xlabel('Date', fontsize=14)  # Add an x-label to the axes.\n",
    "ax1.set_ylabel('Number of residents', fontsize=14)  # Add a y-label to the axes.\n",
    "ax1.set_title('Patients Confirmed Positive in Ontario until ' + str(lastdateOnt1), fontsize=14);  # Add a title to the axes.\n",
    "ax1.set_xticks(xticksOnt1)\n",
    "ax1.legend();"
   ]
  },
  {
   "cell_type": "code",
   "execution_count": 39,
   "metadata": {},
   "outputs": [
    {
     "data": {
      "image/png": "[encoded data removed]",
      "text/plain": [
       "<Figure size 1152x288 with 2 Axes>"
      ]
     },
     "metadata": {
      "needs_background": "light"
     },
     "output_type": "display_data"
    }
   ],
   "source": [
    "f = plt.figure(figsize=(16,4))\n",
    "\n",
    "ax1 = f.add_subplot(121)\n",
    "ax2 = f.add_subplot(122)\n",
    "\n",
    "ax1.bar(df2['date'], df2['pctchange'], label='Daily Change')\n",
    "ax1.set_xlabel('Date', fontsize=14)  # Add an x-label to the axes.\n",
    "ax1.set_ylabel('Percent', fontsize=14)  # Add a y-label to the axes.\n",
    "ax1.set_ylim(0, 0.5)\n",
    "ax1.set_title('Change Rate of New Positives in Ontario until ' + str(lastdateOnt1), fontsize=14);  # Add a title to the axes.\n",
    "ax1.set_xticks(xticksOnt1)\n",
    "ax1.legend()\n",
    "\n",
    "ax2.bar(df2['date'], df2['dailycases'], color='orange', label='Daily Change')\n",
    "ax2.set_xlabel('Date', fontsize=14)  # Add an x-label to the axes.\n",
    "ax2.set_ylabel('Number of New Positives', fontsize=14)  # Add a y-label to the axes.\n",
    "ax2.set_title('New Positive Patients in Ontario until ' + str(lastdateOnt1), fontsize=14);  # Add a title to the axes.\n",
    "ax2.set_xticks(xticksOnt1)\n",
    "ax2.legend();"
   ]
  },
  {
   "cell_type": "code",
   "execution_count": null,
   "metadata": {},
   "outputs": [],
   "source": []
  }
 ],
 "metadata": {
  "kernelspec": {
   "display_name": "Python UWaterloo",
   "language": "python",
   "name": "uwaterloo"
  },
  "language_info": {
   "codemirror_mode": {
    "name": "ipython",
    "version": 3
   },
   "file_extension": ".py",
   "mimetype": "text/x-python",
   "name": "python",
   "nbconvert_exporter": "python",
   "pygments_lexer": "ipython3",
   "version": "3.7.6"
  }
 },
 "nbformat": 4,
 "nbformat_minor": 4
}
