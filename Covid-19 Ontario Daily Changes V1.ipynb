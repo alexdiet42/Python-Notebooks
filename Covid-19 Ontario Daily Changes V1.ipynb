{
 "cells": [
  {
   "cell_type": "markdown",
   "metadata": {},
   "source": [
    "# Covid-19 - Ontario\n",
    "\n",
    "### By Alexandre Dietrich\n",
    "\n",
    "#### April 05, 2020"
   ]
  },
  {
   "cell_type": "markdown",
   "metadata": {},
   "source": [
    "The datasets were downloaded from the o official Ontario site. \n",
    "\n",
    "https://data.ontario.ca/dataset?keywords_en=COVID-19"
   ]
  },
  {
   "cell_type": "code",
   "execution_count": 1,
   "metadata": {},
   "outputs": [],
   "source": [
    "import numpy as np\n",
    "import pandas as pd\n",
    "import matplotlib.pyplot as plt"
   ]
  },
  {
   "cell_type": "markdown",
   "metadata": {},
   "source": [
    "## Dataset: Confirmed positive cases of COVID19 in Ontario"
   ]
  },
  {
   "cell_type": "code",
   "execution_count": 2,
   "metadata": {},
   "outputs": [
    {
     "data": {
      "text/html": [
       "<div>\n",
       "<style scoped>\n",
       "    .dataframe tbody tr th:only-of-type {\n",
       "        vertical-align: middle;\n",
       "    }\n",
       "\n",
       "    .dataframe tbody tr th {\n",
       "        vertical-align: top;\n",
       "    }\n",
       "\n",
       "    .dataframe thead th {\n",
       "        text-align: right;\n",
       "    }\n",
       "</style>\n",
       "<table border=\"1\" class=\"dataframe\">\n",
       "  <thead>\n",
       "    <tr style=\"text-align: right;\">\n",
       "      <th></th>\n",
       "      <th>ROW_ID</th>\n",
       "      <th>ACCURATE_EPISODE_DATE</th>\n",
       "      <th>Age_Group</th>\n",
       "      <th>CLIENT_GENDER</th>\n",
       "      <th>CASE_ACQUISITIONINFO</th>\n",
       "      <th>OUTCOME1</th>\n",
       "      <th>Reporting_PHU</th>\n",
       "      <th>Reporting_PHU_Address</th>\n",
       "      <th>Reporting_PHU_City</th>\n",
       "      <th>Reporting_PHU_Postal_Code</th>\n",
       "      <th>Reporting_PHU_Website</th>\n",
       "      <th>Reporting_PHU_Latitude</th>\n",
       "      <th>Reporting_PHU_Longitude</th>\n",
       "    </tr>\n",
       "  </thead>\n",
       "  <tbody>\n",
       "    <tr>\n",
       "      <td>0</td>\n",
       "      <td>1</td>\n",
       "      <td>2020-03-07</td>\n",
       "      <td>40s</td>\n",
       "      <td>MALE</td>\n",
       "      <td>Neither</td>\n",
       "      <td>Resolved</td>\n",
       "      <td>Toronto Public Health</td>\n",
       "      <td>277 Victoria Street, 5th Floor</td>\n",
       "      <td>Toronto</td>\n",
       "      <td>M5B 1W2</td>\n",
       "      <td>www.toronto.ca/community-people/health-wellnes...</td>\n",
       "      <td>43.656591</td>\n",
       "      <td>-79.379358</td>\n",
       "    </tr>\n",
       "    <tr>\n",
       "      <td>1</td>\n",
       "      <td>2</td>\n",
       "      <td>2020-03-08</td>\n",
       "      <td>20s</td>\n",
       "      <td>MALE</td>\n",
       "      <td>Neither</td>\n",
       "      <td>Resolved</td>\n",
       "      <td>Toronto Public Health</td>\n",
       "      <td>277 Victoria Street, 5th Floor</td>\n",
       "      <td>Toronto</td>\n",
       "      <td>M5B 1W2</td>\n",
       "      <td>www.toronto.ca/community-people/health-wellnes...</td>\n",
       "      <td>43.656591</td>\n",
       "      <td>-79.379358</td>\n",
       "    </tr>\n",
       "    <tr>\n",
       "      <td>2</td>\n",
       "      <td>3</td>\n",
       "      <td>2020-03-10</td>\n",
       "      <td>40s</td>\n",
       "      <td>FEMALE</td>\n",
       "      <td>Neither</td>\n",
       "      <td>Resolved</td>\n",
       "      <td>Toronto Public Health</td>\n",
       "      <td>277 Victoria Street, 5th Floor</td>\n",
       "      <td>Toronto</td>\n",
       "      <td>M5B 1W2</td>\n",
       "      <td>www.toronto.ca/community-people/health-wellnes...</td>\n",
       "      <td>43.656591</td>\n",
       "      <td>-79.379358</td>\n",
       "    </tr>\n",
       "    <tr>\n",
       "      <td>3</td>\n",
       "      <td>4</td>\n",
       "      <td>2020-03-11</td>\n",
       "      <td>50s</td>\n",
       "      <td>FEMALE</td>\n",
       "      <td>Neither</td>\n",
       "      <td>Resolved</td>\n",
       "      <td>Middlesex-London Health Unit</td>\n",
       "      <td>50 King Street</td>\n",
       "      <td>London</td>\n",
       "      <td>N6A 5L7</td>\n",
       "      <td>www.healthunit.com</td>\n",
       "      <td>42.981468</td>\n",
       "      <td>-81.254016</td>\n",
       "    </tr>\n",
       "    <tr>\n",
       "      <td>4</td>\n",
       "      <td>5</td>\n",
       "      <td>2020-03-12</td>\n",
       "      <td>30s</td>\n",
       "      <td>FEMALE</td>\n",
       "      <td>Neither</td>\n",
       "      <td>Resolved</td>\n",
       "      <td>Toronto Public Health</td>\n",
       "      <td>277 Victoria Street, 5th Floor</td>\n",
       "      <td>Toronto</td>\n",
       "      <td>M5B 1W2</td>\n",
       "      <td>www.toronto.ca/community-people/health-wellnes...</td>\n",
       "      <td>43.656591</td>\n",
       "      <td>-79.379358</td>\n",
       "    </tr>\n",
       "  </tbody>\n",
       "</table>\n",
       "</div>"
      ],
      "text/plain": [
       "   ROW_ID ACCURATE_EPISODE_DATE Age_Group CLIENT_GENDER CASE_ACQUISITIONINFO  \\\n",
       "0       1            2020-03-07       40s          MALE              Neither   \n",
       "1       2            2020-03-08       20s          MALE              Neither   \n",
       "2       3            2020-03-10       40s        FEMALE              Neither   \n",
       "3       4            2020-03-11       50s        FEMALE              Neither   \n",
       "4       5            2020-03-12       30s        FEMALE              Neither   \n",
       "\n",
       "   OUTCOME1                 Reporting_PHU           Reporting_PHU_Address  \\\n",
       "0  Resolved         Toronto Public Health  277 Victoria Street, 5th Floor   \n",
       "1  Resolved         Toronto Public Health  277 Victoria Street, 5th Floor   \n",
       "2  Resolved         Toronto Public Health  277 Victoria Street, 5th Floor   \n",
       "3  Resolved  Middlesex-London Health Unit                  50 King Street   \n",
       "4  Resolved         Toronto Public Health  277 Victoria Street, 5th Floor   \n",
       "\n",
       "  Reporting_PHU_City Reporting_PHU_Postal_Code  \\\n",
       "0            Toronto                   M5B 1W2   \n",
       "1            Toronto                   M5B 1W2   \n",
       "2            Toronto                   M5B 1W2   \n",
       "3             London                   N6A 5L7   \n",
       "4            Toronto                   M5B 1W2   \n",
       "\n",
       "                               Reporting_PHU_Website  Reporting_PHU_Latitude  \\\n",
       "0  www.toronto.ca/community-people/health-wellnes...               43.656591   \n",
       "1  www.toronto.ca/community-people/health-wellnes...               43.656591   \n",
       "2  www.toronto.ca/community-people/health-wellnes...               43.656591   \n",
       "3                                 www.healthunit.com               42.981468   \n",
       "4  www.toronto.ca/community-people/health-wellnes...               43.656591   \n",
       "\n",
       "   Reporting_PHU_Longitude  \n",
       "0               -79.379358  \n",
       "1               -79.379358  \n",
       "2               -79.379358  \n",
       "3               -81.254016  \n",
       "4               -79.379358  "
      ]
     },
     "execution_count": 2,
     "metadata": {},
     "output_type": "execute_result"
    }
   ],
   "source": [
    "df = pd.read_csv(\"conposcovidloc.csv\")\n",
    "df.head()"
   ]
  },
  {
   "cell_type": "code",
   "execution_count": 3,
   "metadata": {},
   "outputs": [
    {
     "name": "stdout",
     "output_type": "stream",
     "text": [
      "<class 'pandas.core.frame.DataFrame'>\n",
      "RangeIndex: 3630 entries, 0 to 3629\n",
      "Data columns (total 13 columns):\n",
      "ROW_ID                       3630 non-null int64\n",
      "ACCURATE_EPISODE_DATE        3630 non-null object\n",
      "Age_Group                    3630 non-null object\n",
      "CLIENT_GENDER                3630 non-null object\n",
      "CASE_ACQUISITIONINFO         3630 non-null object\n",
      "OUTCOME1                     3630 non-null object\n",
      "Reporting_PHU                3630 non-null object\n",
      "Reporting_PHU_Address        3630 non-null object\n",
      "Reporting_PHU_City           3630 non-null object\n",
      "Reporting_PHU_Postal_Code    3630 non-null object\n",
      "Reporting_PHU_Website        3630 non-null object\n",
      "Reporting_PHU_Latitude       3630 non-null float64\n",
      "Reporting_PHU_Longitude      3630 non-null float64\n",
      "dtypes: float64(2), int64(1), object(10)\n",
      "memory usage: 368.8+ KB\n"
     ]
    }
   ],
   "source": [
    "df.info()"
   ]
  },
  {
   "cell_type": "code",
   "execution_count": 4,
   "metadata": {},
   "outputs": [
    {
     "name": "stdout",
     "output_type": "stream",
     "text": [
      "<class 'pandas.core.frame.DataFrame'>\n",
      "RangeIndex: 3630 entries, 0 to 3629\n",
      "Data columns (total 13 columns):\n",
      "id           3630 non-null int64\n",
      "date         3630 non-null object\n",
      "agegrp       3630 non-null object\n",
      "gender       3630 non-null object\n",
      "info         3630 non-null object\n",
      "outcome      3630 non-null object\n",
      "phu          3630 non-null object\n",
      "address      3630 non-null object\n",
      "city         3630 non-null object\n",
      "zipcode      3630 non-null object\n",
      "website      3630 non-null object\n",
      "latitude     3630 non-null float64\n",
      "longitude    3630 non-null float64\n",
      "dtypes: float64(2), int64(1), object(10)\n",
      "memory usage: 368.8+ KB\n"
     ]
    }
   ],
   "source": [
    "df.columns = ['id', 'date', 'agegrp', 'gender', 'info', \n",
    "              'outcome', 'phu', 'address', 'city', 'zipcode', 'website', 'latitude', 'longitude']\n",
    "df.info()"
   ]
  },
  {
   "cell_type": "code",
   "execution_count": 5,
   "metadata": {},
   "outputs": [
    {
     "data": {
      "text/plain": [
       "2020-03-30    206\n",
       "2020-03-20    205\n",
       "2020-03-23    192\n",
       "2020-03-26    183\n",
       "2020-03-31    182\n",
       "2020-03-28    176\n",
       "2020-03-18    171\n",
       "2020-03-27    169\n",
       "2020-03-24    164\n",
       "2020-03-17    163\n",
       "2020-03-25    155\n",
       "2020-03-16    152\n",
       "2020-03-19    149\n",
       "2020-03-21    148\n",
       "2020-03-22    140\n",
       "2020-03-29    134\n",
       "2020-04-01    104\n",
       "2020-03-15    103\n",
       "2020-03-14     95\n",
       "2020-03-13     83\n",
       "2020-03-12     83\n",
       "2020-03-11     71\n",
       "2020-03-10     70\n",
       "2020-04-03     66\n",
       "2020-04-02     59\n",
       "2020-03-09     49\n",
       "2020-03-08     32\n",
       "2020-03-07     22\n",
       "2020-03-06     20\n",
       "2020-03-05     14\n",
       "2020-03-02     11\n",
       "2020-03-03     10\n",
       "2020-03-04      7\n",
       "2020-03-01      7\n",
       "2020-02-20      4\n",
       "2020-02-28      4\n",
       "2020-02-23      3\n",
       "2020-02-26      3\n",
       "2020-02-29      3\n",
       "2020-02-14      2\n",
       "2020-02-22      2\n",
       "2020-02-25      2\n",
       "2020-02-24      2\n",
       "2020-01-21      1\n",
       "2020-01-25      1\n",
       "2020-02-05      1\n",
       "2020-02-21      1\n",
       "2020-01-22      1\n",
       "2020-02-15      1\n",
       "2020-02-16      1\n",
       "2020-02-10      1\n",
       "2020-02-27      1\n",
       "2020-01-24      1\n",
       "Name: date, dtype: int64"
      ]
     },
     "execution_count": 5,
     "metadata": {},
     "output_type": "execute_result"
    }
   ],
   "source": [
    "df['date'].value_counts()"
   ]
  },
  {
   "cell_type": "code",
   "execution_count": 6,
   "metadata": {},
   "outputs": [
    {
     "data": {
      "text/plain": [
       "Toronto             845\n",
       "Mississauga         443\n",
       "Newmarket           401\n",
       "Ottawa              309\n",
       "Whitby              194\n",
       "Waterloo            140\n",
       "Hamilton            137\n",
       "Windsor             120\n",
       "Oakville            114\n",
       "Thorold             110\n",
       "London              110\n",
       "Barrie               71\n",
       "Guelph               70\n",
       "Port Hope            70\n",
       "Point Edward         63\n",
       "Simcoe               54\n",
       "Kingston             48\n",
       "Brockville           47\n",
       "Brantford            46\n",
       "Peterborough         41\n",
       "Cornwall             34\n",
       "Timmins              28\n",
       "Sudbury              25\n",
       "Belleville           17\n",
       "Stratford            16\n",
       "St. Thomas           16\n",
       "Owen Sound           15\n",
       "Thunder Bay          11\n",
       "Chatham              10\n",
       "Sault Ste. Marie      7\n",
       "Pembroke              7\n",
       "Kenora                4\n",
       "North Bay             4\n",
       "New Liskeard          3\n",
       "Name: city, dtype: int64"
      ]
     },
     "execution_count": 6,
     "metadata": {},
     "output_type": "execute_result"
    }
   ],
   "source": [
    "cityname = df['city'].value_counts()\n",
    "cityname"
   ]
  },
  {
   "cell_type": "code",
   "execution_count": 7,
   "metadata": {},
   "outputs": [
    {
     "name": "stdout",
     "output_type": "stream",
     "text": [
      "<class 'pandas.core.frame.DataFrame'>\n",
      "RangeIndex: 3630 entries, 0 to 3629\n",
      "Data columns (total 13 columns):\n",
      "id           3630 non-null int64\n",
      "date         3630 non-null datetime64[ns]\n",
      "agegrp       3630 non-null object\n",
      "gender       3630 non-null object\n",
      "info         3630 non-null object\n",
      "outcome      3630 non-null object\n",
      "phu          3630 non-null object\n",
      "address      3630 non-null object\n",
      "city         3630 non-null object\n",
      "zipcode      3630 non-null object\n",
      "website      3630 non-null object\n",
      "latitude     3630 non-null float64\n",
      "longitude    3630 non-null float64\n",
      "dtypes: datetime64[ns](1), float64(2), int64(1), object(9)\n",
      "memory usage: 368.8+ KB\n"
     ]
    }
   ],
   "source": [
    "df['date'] = pd.to_datetime(df['date'], infer_datetime_format=True)\n",
    "df.info()"
   ]
  },
  {
   "cell_type": "code",
   "execution_count": 8,
   "metadata": {},
   "outputs": [
    {
     "data": {
      "text/plain": [
       "array([120,  10,  16,  54, 110,  63, 110,  46, 137,  16, 114, 140,  70,\n",
       "       443, 845, 194,  70, 401,  17,  48,  41,  71,  15,  47,  34, 309,\n",
       "         7,   4,  25,   7,   3,  11,  28,   4])"
      ]
     },
     "execution_count": 8,
     "metadata": {},
     "output_type": "execute_result"
    }
   ],
   "source": [
    "city = df.groupby(['latitude', 'longitude'])['city'].count()\n",
    "lat = city.index.get_level_values('latitude').to_numpy()\n",
    "long = city.index.get_level_values('longitude').to_numpy()\n",
    "size = city.values\n",
    "size"
   ]
  },
  {
   "cell_type": "code",
   "execution_count": 9,
   "metadata": {},
   "outputs": [
    {
     "data": {
      "text/plain": [
       "Thorold        110\n",
       "London         110\n",
       "Oakville       114\n",
       "Windsor        120\n",
       "Hamilton       137\n",
       "Waterloo       140\n",
       "Whitby         194\n",
       "Ottawa         309\n",
       "Newmarket      401\n",
       "Mississauga    443\n",
       "Toronto        845\n",
       "Name: city, dtype: int64"
      ]
     },
     "execution_count": 9,
     "metadata": {},
     "output_type": "execute_result"
    }
   ],
   "source": [
    "cityname = cityname.head(11)\n",
    "cityname = cityname.sort_values(ascending=True)\n",
    "cityname"
   ]
  },
  {
   "cell_type": "code",
   "execution_count": 10,
   "metadata": {},
   "outputs": [
    {
     "data": {
      "text/plain": [
       "datetime.date(2020, 4, 2)"
      ]
     },
     "execution_count": 10,
     "metadata": {},
     "output_type": "execute_result"
    }
   ],
   "source": [
    "outcome = df[df['city'] == 'Toronto'].groupby('outcome')['outcome'].count()\n",
    "lastdate = df[df['city'] == 'Toronto']['date'].max().date()\n",
    "lastdate"
   ]
  },
  {
   "cell_type": "code",
   "execution_count": 11,
   "metadata": {},
   "outputs": [
    {
     "data": {
      "text/plain": [
       "agegrp\n",
       "20s        140\n",
       "30s        167\n",
       "40s        138\n",
       "50s        128\n",
       "60s        125\n",
       "70s         62\n",
       "80s         42\n",
       "90s         16\n",
       "<20         11\n",
       "Unknown      1\n",
       "Name: agegrp, dtype: int64"
      ]
     },
     "execution_count": 11,
     "metadata": {},
     "output_type": "execute_result"
    }
   ],
   "source": [
    "agegrp = df[(df['date'] >= '2020-03-01') & (df['city'] == 'Toronto')].groupby('agegrp')['agegrp'].count()\n",
    "agegrp"
   ]
  },
  {
   "cell_type": "code",
   "execution_count": 12,
   "metadata": {},
   "outputs": [],
   "source": [
    "cumulative = df[(df['date'] >= '2020-03-01') & (df['city'] == 'Toronto')].groupby('date')['date'].count().cumsum()"
   ]
  },
  {
   "cell_type": "code",
   "execution_count": 13,
   "metadata": {},
   "outputs": [],
   "source": [
    "byday = df[(df['date'] >= '2020-03-01') & (df['city'] == 'Toronto')].groupby('date')['date'].count()"
   ]
  },
  {
   "cell_type": "code",
   "execution_count": 14,
   "metadata": {},
   "outputs": [
    {
     "data": {
      "text/plain": [
       "datetime.date(2020, 4, 3)"
      ]
     },
     "execution_count": 14,
     "metadata": {},
     "output_type": "execute_result"
    }
   ],
   "source": [
    "outcomeOnt = df.groupby('outcome')['outcome'].count()\n",
    "lastdateOnt = df['date'].max().date()\n",
    "lastdateOnt"
   ]
  },
  {
   "cell_type": "code",
   "execution_count": 15,
   "metadata": {},
   "outputs": [
    {
     "data": {
      "text/plain": [
       "agegrp\n",
       "20s        487\n",
       "30s        533\n",
       "40s        592\n",
       "50s        715\n",
       "60s        574\n",
       "70s        312\n",
       "80s        206\n",
       "90s         81\n",
       "<20         93\n",
       "Unknown      2\n",
       "Name: agegrp, dtype: int64"
      ]
     },
     "execution_count": 15,
     "metadata": {},
     "output_type": "execute_result"
    }
   ],
   "source": [
    "agegrpOnt = df[df['date'] >= '2020-03-01'].groupby('agegrp')['agegrp'].count()\n",
    "agegrpOnt"
   ]
  },
  {
   "cell_type": "code",
   "execution_count": 16,
   "metadata": {},
   "outputs": [],
   "source": [
    "cumulativeOnt = df[df['date'] >= '2020-03-01'].groupby('date')['date'].count().cumsum()"
   ]
  },
  {
   "cell_type": "code",
   "execution_count": 17,
   "metadata": {},
   "outputs": [],
   "source": [
    "bydayOnt = df[df['date'] >= '2020-03-01'].groupby('date')['date'].count()"
   ]
  },
  {
   "cell_type": "code",
   "execution_count": 54,
   "metadata": {},
   "outputs": [
    {
     "data": {
      "image/png": "[encoded data removed]",
      "text/plain": [
       "<Figure size 1224x288 with 2 Axes>"
      ]
     },
     "metadata": {
      "needs_background": "light"
     },
     "output_type": "display_data"
    }
   ],
   "source": [
    "f = plt.figure(figsize=(17,4))\n",
    "\n",
    "ax1 = f.add_subplot(121)\n",
    "ax2 = f.add_subplot(122)\n",
    "\n",
    "ax1.scatter(long, lat, s=size, alpha=0.7, color='orange', label='Size = # of Positive Confirmed Residents')\n",
    "ax1.set_xlabel('Longitude', fontsize=12)  # Add an x-label to the axes.\n",
    "ax1.set_ylabel('Latitude', fontsize=12)  # Add a y-label to the axes.\n",
    "ax1.set_title('Confirmed positive cases of COVID-19 per City in Ontario until ' + str(lastdate), fontsize=12);  # Add a title to the axes.\n",
    "ax1.legend()\n",
    "\n",
    "ax2.barh(cityname.index, cityname.values) #, color=['red', 'yellow', 'green'])\n",
    "ax2.set_xlabel('Number of residents', fontsize=14)  # Add an x-label to the axes.\n",
    "ax2.set_ylabel('City', fontsize=14)  # Add a y-label to the axes.\n",
    "ax2.set_title('Confirmed positive cases of COVID-19 per City in Ontario until ' + str(lastdate), fontsize=12);  # Add a title to the to the axes"
   ]
  },
  {
   "cell_type": "code",
   "execution_count": 19,
   "metadata": {},
   "outputs": [
    {
     "data": {
      "image/png": "[encoded data removed]",
      "text/plain": [
       "<Figure size 1008x288 with 2 Axes>"
      ]
     },
     "metadata": {
      "needs_background": "light"
     },
     "output_type": "display_data"
    }
   ],
   "source": [
    "#plt.figure(figsize=(12,4))\n",
    "#fig, (ax1, ax2) = plt.subplots(1, 2)\n",
    "f = plt.figure(figsize=(14,4))\n",
    "\n",
    "ax1 = f.add_subplot(121)\n",
    "ax2 = f.add_subplot(122)\n",
    "\n",
    "ax1.bar(outcome.index, outcome.values, color=['red', 'yellow', 'green'])\n",
    "ax1.set_xlabel('Outcome', fontsize=14)  # Add an x-label to the axes.\n",
    "ax1.set_ylabel('Number of residents', fontsize=14)  # Add a y-label to the axes.\n",
    "ax1.set_title('Outcome in Toronto until ' + str(lastdate), fontsize=14);  # Add a title to the axes.\n",
    "\n",
    "ax2.bar(outcomeOnt.index, outcomeOnt.values, color=['red', 'yellow', 'green'])\n",
    "ax2.set_xlabel('Outcome', fontsize=14)  # Add an x-label to the axes.\n",
    "ax2.set_ylabel('Number of residents', fontsize=14)  # Add a y-label to the axes.\n",
    "ax2.set_title('Outcome in Ontario until ' + str(lastdateOnt), fontsize=14);  # Add a title to the axes."
   ]
  },
  {
   "cell_type": "code",
   "execution_count": 68,
   "metadata": {},
   "outputs": [
    {
     "data": {
      "image/png": "[encoded data removed]",
      "text/plain": [
       "<Figure size 1152x288 with 2 Axes>"
      ]
     },
     "metadata": {
      "needs_background": "light"
     },
     "output_type": "display_data"
    }
   ],
   "source": [
    "f = plt.figure(figsize=(16,4))\n",
    "\n",
    "ax1 = f.add_subplot(121)\n",
    "ax2 = f.add_subplot(122)\n",
    "\n",
    "ax1.bar(agegrp.index, agegrp.values) #, color=['red', 'yellow', 'green'])\n",
    "ax1.set_xlabel('Age Groups', fontsize=14)  # Add an x-label to the axes.\n",
    "ax1.set_ylabel('Number of residents', fontsize=14)  # Add a y-label to the axes.\n",
    "ax1.set_title('Confirmed positive cases of COVID-19 by Age in Toronto until ' + str(lastdate), fontsize=12);  # Add a title to the axes.\n",
    "\n",
    "ax2.bar(agegrpOnt.index, agegrpOnt.values, color='orange')\n",
    "ax2.set_xlabel('Age Groups', fontsize=14)  # Add an x-label to the axes.\n",
    "ax2.set_ylabel('Number of residents', fontsize=14)  # Add a y-label to the axes.\n",
    "ax2.set_title('Confirmed positive cases of COVID-19 by Age in Ontario until' + str(lastdateOnt), fontsize=12);  # Add a title to the axes."
   ]
  },
  {
   "cell_type": "code",
   "execution_count": 63,
   "metadata": {},
   "outputs": [
    {
     "data": {
      "image/png": "[encoded data removed]",
      "text/plain": [
       "<Figure size 1152x288 with 2 Axes>"
      ]
     },
     "metadata": {
      "needs_background": "light"
     },
     "output_type": "display_data"
    }
   ],
   "source": [
    "xticks = ['2020-03-01', '2020-03-20', lastdate]\n",
    "xticksOnt = ['2020-03-01', '2020-03-20', lastdateOnt]\n",
    "\n",
    "f = plt.figure(figsize=(16,4))\n",
    "\n",
    "\n",
    "ax1 = f.add_subplot(121)\n",
    "ax2 = f.add_subplot(122)\n",
    "\n",
    "xticksOnt = ['2020-03-01', '2020-03-15', lastdateOnt]\n",
    "\n",
    "ax1.bar(cumulative.index, cumulative.values) #, color=['red', 'yellow', 'green'])\n",
    "ax1.set_xlabel('Date', fontsize=14)  # Add an x-label to the axes.\n",
    "ax1.set_ylabel('Number of residents', fontsize=14)  # Add a y-label to the axes.\n",
    "ax1.set_title('Cumulative confirmed positive cases of COVID-19 in Toronto until' + str(lastdate), fontsize=12)  # Add a title to the axes.\n",
    "ax1.set_xticks(xticks);\n",
    "\n",
    "ax2.bar(cumulativeOnt.index, cumulativeOnt.values) #, color=['red', 'yellow', 'green'])\n",
    "ax2.set_xlabel('Date', fontsize=14)  # Add an x-label to the axes.\n",
    "ax2.set_ylabel('Number of residents', fontsize=14)  # Add a y-label to the axes.\n",
    "ax2.set_title('Cumulative confirmed positive cases of COVID-19 in Ontario until ' + str(lastdateOnt), fontsize=12)  # Add a title to the axes.\n",
    "ax2.set_xticks(xticksOnt);"
   ]
  },
  {
   "cell_type": "code",
   "execution_count": 69,
   "metadata": {},
   "outputs": [
    {
     "data": {
      "image/png": "[encoded data removed]",
      "text/plain": [
       "<Figure size 1152x288 with 2 Axes>"
      ]
     },
     "metadata": {
      "needs_background": "light"
     },
     "output_type": "display_data"
    }
   ],
   "source": [
    "f = plt.figure(figsize=(16,4))\n",
    "\n",
    "ax1 = f.add_subplot(121)\n",
    "ax2 = f.add_subplot(122)\n",
    "\n",
    "ax1.bar(byday.index, byday.values) #, color=['red', 'yellow', 'green'])\n",
    "ax1.set_xlabel('Date', fontsize=14)  # Add an x-label to the axes.\n",
    "ax1.set_ylabel('Number of residents', fontsize=14)  # Add a y-label to the axes.\n",
    "ax1.set_title('Daily confirmed positive cases of COVID-19 in Toronto until ' + str(lastdate), fontsize=12)  # Add a title to the axes.\n",
    "ax1.set_xticks(xticks);\n",
    "\n",
    "ax2.bar(bydayOnt.index, bydayOnt.values, color='orange')\n",
    "ax2.set_xlabel('Date', fontsize=14)  # Add an x-label to the axes.\n",
    "ax2.set_ylabel('Number of residents', fontsize=14)  # Add a y-label to the axes.\n",
    "ax2.set_title('Daily confirmed positive cases of COVID-19 in Ontario until ' + str(lastdateOnt), fontsize=12)  # Add a title to the axes.\n",
    "ax2.set_xticks(xticksOnt);"
   ]
  },
  {
   "cell_type": "markdown",
   "metadata": {},
   "source": [
    "## Dataset: Status of COVID-19 cases in Ontario"
   ]
  },
  {
   "cell_type": "code",
   "execution_count": 23,
   "metadata": {},
   "outputs": [
    {
     "data": {
      "text/html": [
       "<div>\n",
       "<style scoped>\n",
       "    .dataframe tbody tr th:only-of-type {\n",
       "        vertical-align: middle;\n",
       "    }\n",
       "\n",
       "    .dataframe tbody tr th {\n",
       "        vertical-align: top;\n",
       "    }\n",
       "\n",
       "    .dataframe thead th {\n",
       "        text-align: right;\n",
       "    }\n",
       "</style>\n",
       "<table border=\"1\" class=\"dataframe\">\n",
       "  <thead>\n",
       "    <tr style=\"text-align: right;\">\n",
       "      <th></th>\n",
       "      <th>Reported Date</th>\n",
       "      <th>Confirmed Negative</th>\n",
       "      <th>Presumptive Negative</th>\n",
       "      <th>Under Investigation</th>\n",
       "      <th>Presumptive Positive</th>\n",
       "      <th>Confirmed Positive</th>\n",
       "      <th>Resolved</th>\n",
       "      <th>Deaths</th>\n",
       "      <th>Total patients approved for testing as of Reporting Date</th>\n",
       "      <th>Total Cases</th>\n",
       "      <th>Number of patients hospitalized with COVID-19</th>\n",
       "      <th>Number of patients in ICU with COVID-19</th>\n",
       "      <th>Number of patients in ICU on a ventilator with COVID-19</th>\n",
       "    </tr>\n",
       "  </thead>\n",
       "  <tbody>\n",
       "    <tr>\n",
       "      <td>55</td>\n",
       "      <td>2020-04-01</td>\n",
       "      <td>NaN</td>\n",
       "      <td>NaN</td>\n",
       "      <td>3135</td>\n",
       "      <td>NaN</td>\n",
       "      <td>1681.0</td>\n",
       "      <td>674.0</td>\n",
       "      <td>37.0</td>\n",
       "      <td>57874.0</td>\n",
       "      <td>2392.0</td>\n",
       "      <td>NaN</td>\n",
       "      <td>NaN</td>\n",
       "      <td>NaN</td>\n",
       "    </tr>\n",
       "    <tr>\n",
       "      <td>56</td>\n",
       "      <td>2020-04-02</td>\n",
       "      <td>NaN</td>\n",
       "      <td>NaN</td>\n",
       "      <td>2052</td>\n",
       "      <td>NaN</td>\n",
       "      <td>1909.0</td>\n",
       "      <td>831.0</td>\n",
       "      <td>53.0</td>\n",
       "      <td>62733.0</td>\n",
       "      <td>2793.0</td>\n",
       "      <td>405.0</td>\n",
       "      <td>167.0</td>\n",
       "      <td>112.0</td>\n",
       "    </tr>\n",
       "    <tr>\n",
       "      <td>57</td>\n",
       "      <td>2020-04-03</td>\n",
       "      <td>NaN</td>\n",
       "      <td>NaN</td>\n",
       "      <td>1245</td>\n",
       "      <td>NaN</td>\n",
       "      <td>2165.0</td>\n",
       "      <td>1023.0</td>\n",
       "      <td>67.0</td>\n",
       "      <td>66753.0</td>\n",
       "      <td>3255.0</td>\n",
       "      <td>462.0</td>\n",
       "      <td>194.0</td>\n",
       "      <td>140.0</td>\n",
       "    </tr>\n",
       "    <tr>\n",
       "      <td>58</td>\n",
       "      <td>2020-04-04</td>\n",
       "      <td>NaN</td>\n",
       "      <td>NaN</td>\n",
       "      <td>1336</td>\n",
       "      <td>NaN</td>\n",
       "      <td>2317.0</td>\n",
       "      <td>1219.0</td>\n",
       "      <td>94.0</td>\n",
       "      <td>71338.0</td>\n",
       "      <td>3630.0</td>\n",
       "      <td>506.0</td>\n",
       "      <td>196.0</td>\n",
       "      <td>152.0</td>\n",
       "    </tr>\n",
       "    <tr>\n",
       "      <td>59</td>\n",
       "      <td>2020-04-05</td>\n",
       "      <td>NaN</td>\n",
       "      <td>NaN</td>\n",
       "      <td>981</td>\n",
       "      <td>NaN</td>\n",
       "      <td>2470.0</td>\n",
       "      <td>1449.0</td>\n",
       "      <td>119.0</td>\n",
       "      <td>75046.0</td>\n",
       "      <td>4038.0</td>\n",
       "      <td>523.0</td>\n",
       "      <td>200.0</td>\n",
       "      <td>154.0</td>\n",
       "    </tr>\n",
       "  </tbody>\n",
       "</table>\n",
       "</div>"
      ],
      "text/plain": [
       "   Reported Date  Confirmed Negative  Presumptive Negative  \\\n",
       "55    2020-04-01                 NaN                   NaN   \n",
       "56    2020-04-02                 NaN                   NaN   \n",
       "57    2020-04-03                 NaN                   NaN   \n",
       "58    2020-04-04                 NaN                   NaN   \n",
       "59    2020-04-05                 NaN                   NaN   \n",
       "\n",
       "    Under Investigation  Presumptive Positive  Confirmed Positive  Resolved  \\\n",
       "55                 3135                   NaN              1681.0     674.0   \n",
       "56                 2052                   NaN              1909.0     831.0   \n",
       "57                 1245                   NaN              2165.0    1023.0   \n",
       "58                 1336                   NaN              2317.0    1219.0   \n",
       "59                  981                   NaN              2470.0    1449.0   \n",
       "\n",
       "    Deaths  Total patients approved for testing as of Reporting Date  \\\n",
       "55    37.0                                            57874.0          \n",
       "56    53.0                                            62733.0          \n",
       "57    67.0                                            66753.0          \n",
       "58    94.0                                            71338.0          \n",
       "59   119.0                                            75046.0          \n",
       "\n",
       "    Total Cases  Number of patients hospitalized with COVID-19  \\\n",
       "55       2392.0                                            NaN   \n",
       "56       2793.0                                          405.0   \n",
       "57       3255.0                                          462.0   \n",
       "58       3630.0                                          506.0   \n",
       "59       4038.0                                          523.0   \n",
       "\n",
       "    Number of patients in ICU with COVID-19  \\\n",
       "55                                      NaN   \n",
       "56                                    167.0   \n",
       "57                                    194.0   \n",
       "58                                    196.0   \n",
       "59                                    200.0   \n",
       "\n",
       "    Number of patients in ICU on a ventilator with COVID-19  \n",
       "55                                                NaN        \n",
       "56                                              112.0        \n",
       "57                                              140.0        \n",
       "58                                              152.0        \n",
       "59                                              154.0        "
      ]
     },
     "execution_count": 23,
     "metadata": {},
     "output_type": "execute_result"
    }
   ],
   "source": [
    "df1 = pd.read_csv(\"covidtesting.csv\")\n",
    "df1.tail()"
   ]
  },
  {
   "cell_type": "code",
   "execution_count": 24,
   "metadata": {},
   "outputs": [
    {
     "name": "stdout",
     "output_type": "stream",
     "text": [
      "<class 'pandas.core.frame.DataFrame'>\n",
      "RangeIndex: 60 entries, 0 to 59\n",
      "Data columns (total 13 columns):\n",
      "Reported Date                                               60 non-null object\n",
      "Confirmed Negative                                          47 non-null float64\n",
      "Presumptive Negative                                        12 non-null float64\n",
      "Under Investigation                                         60 non-null int64\n",
      "Presumptive Positive                                        25 non-null float64\n",
      "Confirmed Positive                                          58 non-null float64\n",
      "Resolved                                                    48 non-null float64\n",
      "Deaths                                                      20 non-null float64\n",
      "Total patients approved for testing as of Reporting Date    54 non-null float64\n",
      "Total Cases                                                 58 non-null float64\n",
      "Number of patients hospitalized with COVID-19               4 non-null float64\n",
      "Number of patients in ICU with COVID-19                     4 non-null float64\n",
      "Number of patients in ICU on a ventilator with COVID-19     4 non-null float64\n",
      "dtypes: float64(11), int64(1), object(1)\n",
      "memory usage: 6.2+ KB\n"
     ]
    }
   ],
   "source": [
    "df1.info()"
   ]
  },
  {
   "cell_type": "code",
   "execution_count": 25,
   "metadata": {},
   "outputs": [
    {
     "name": "stdout",
     "output_type": "stream",
     "text": [
      "<class 'pandas.core.frame.DataFrame'>\n",
      "RangeIndex: 60 entries, 0 to 59\n",
      "Data columns (total 13 columns):\n",
      "date            60 non-null object\n",
      "confneg         47 non-null float64\n",
      "presneg         12 non-null float64\n",
      "underinvest     60 non-null int64\n",
      "prespos         25 non-null float64\n",
      "confpos         58 non-null float64\n",
      "resolved        48 non-null float64\n",
      "deaths          20 non-null float64\n",
      "tested          54 non-null float64\n",
      "totcases        58 non-null float64\n",
      "numpathosp      4 non-null float64\n",
      "numpatICU       4 non-null float64\n",
      "numpatventil    4 non-null float64\n",
      "dtypes: float64(11), int64(1), object(1)\n",
      "memory usage: 6.2+ KB\n"
     ]
    }
   ],
   "source": [
    "df1.columns = ['date', 'confneg', 'presneg', 'underinvest', 'prespos', 'confpos', 'resolved', 'deaths', \n",
    "              'tested', 'totcases', 'numpathosp', 'numpatICU', 'numpatventil']\n",
    "df1.info()"
   ]
  },
  {
   "cell_type": "code",
   "execution_count": 26,
   "metadata": {},
   "outputs": [],
   "source": [
    "df1['date'] = pd.to_datetime(df1['date'], infer_datetime_format=True)"
   ]
  },
  {
   "cell_type": "code",
   "execution_count": 27,
   "metadata": {},
   "outputs": [
    {
     "data": {
      "text/html": [
       "<div>\n",
       "<style scoped>\n",
       "    .dataframe tbody tr th:only-of-type {\n",
       "        vertical-align: middle;\n",
       "    }\n",
       "\n",
       "    .dataframe tbody tr th {\n",
       "        vertical-align: top;\n",
       "    }\n",
       "\n",
       "    .dataframe thead th {\n",
       "        text-align: right;\n",
       "    }\n",
       "</style>\n",
       "<table border=\"1\" class=\"dataframe\">\n",
       "  <thead>\n",
       "    <tr style=\"text-align: right;\">\n",
       "      <th></th>\n",
       "      <th>date</th>\n",
       "      <th>confneg</th>\n",
       "      <th>presneg</th>\n",
       "      <th>underinvest</th>\n",
       "      <th>prespos</th>\n",
       "      <th>confpos</th>\n",
       "      <th>resolved</th>\n",
       "      <th>deaths</th>\n",
       "      <th>tested</th>\n",
       "      <th>totcases</th>\n",
       "      <th>numpathosp</th>\n",
       "      <th>numpatICU</th>\n",
       "      <th>numpatventil</th>\n",
       "    </tr>\n",
       "  </thead>\n",
       "  <tbody>\n",
       "    <tr>\n",
       "      <td>55</td>\n",
       "      <td>2020-04-01</td>\n",
       "      <td>NaN</td>\n",
       "      <td>NaN</td>\n",
       "      <td>3135</td>\n",
       "      <td>NaN</td>\n",
       "      <td>1681.0</td>\n",
       "      <td>674.0</td>\n",
       "      <td>37.0</td>\n",
       "      <td>57874.0</td>\n",
       "      <td>2392.0</td>\n",
       "      <td>NaN</td>\n",
       "      <td>NaN</td>\n",
       "      <td>NaN</td>\n",
       "    </tr>\n",
       "    <tr>\n",
       "      <td>56</td>\n",
       "      <td>2020-04-02</td>\n",
       "      <td>NaN</td>\n",
       "      <td>NaN</td>\n",
       "      <td>2052</td>\n",
       "      <td>NaN</td>\n",
       "      <td>1909.0</td>\n",
       "      <td>831.0</td>\n",
       "      <td>53.0</td>\n",
       "      <td>62733.0</td>\n",
       "      <td>2793.0</td>\n",
       "      <td>405.0</td>\n",
       "      <td>167.0</td>\n",
       "      <td>112.0</td>\n",
       "    </tr>\n",
       "    <tr>\n",
       "      <td>57</td>\n",
       "      <td>2020-04-03</td>\n",
       "      <td>NaN</td>\n",
       "      <td>NaN</td>\n",
       "      <td>1245</td>\n",
       "      <td>NaN</td>\n",
       "      <td>2165.0</td>\n",
       "      <td>1023.0</td>\n",
       "      <td>67.0</td>\n",
       "      <td>66753.0</td>\n",
       "      <td>3255.0</td>\n",
       "      <td>462.0</td>\n",
       "      <td>194.0</td>\n",
       "      <td>140.0</td>\n",
       "    </tr>\n",
       "    <tr>\n",
       "      <td>58</td>\n",
       "      <td>2020-04-04</td>\n",
       "      <td>NaN</td>\n",
       "      <td>NaN</td>\n",
       "      <td>1336</td>\n",
       "      <td>NaN</td>\n",
       "      <td>2317.0</td>\n",
       "      <td>1219.0</td>\n",
       "      <td>94.0</td>\n",
       "      <td>71338.0</td>\n",
       "      <td>3630.0</td>\n",
       "      <td>506.0</td>\n",
       "      <td>196.0</td>\n",
       "      <td>152.0</td>\n",
       "    </tr>\n",
       "    <tr>\n",
       "      <td>59</td>\n",
       "      <td>2020-04-05</td>\n",
       "      <td>NaN</td>\n",
       "      <td>NaN</td>\n",
       "      <td>981</td>\n",
       "      <td>NaN</td>\n",
       "      <td>2470.0</td>\n",
       "      <td>1449.0</td>\n",
       "      <td>119.0</td>\n",
       "      <td>75046.0</td>\n",
       "      <td>4038.0</td>\n",
       "      <td>523.0</td>\n",
       "      <td>200.0</td>\n",
       "      <td>154.0</td>\n",
       "    </tr>\n",
       "  </tbody>\n",
       "</table>\n",
       "</div>"
      ],
      "text/plain": [
       "         date  confneg  presneg  underinvest  prespos  confpos  resolved  \\\n",
       "55 2020-04-01      NaN      NaN         3135      NaN   1681.0     674.0   \n",
       "56 2020-04-02      NaN      NaN         2052      NaN   1909.0     831.0   \n",
       "57 2020-04-03      NaN      NaN         1245      NaN   2165.0    1023.0   \n",
       "58 2020-04-04      NaN      NaN         1336      NaN   2317.0    1219.0   \n",
       "59 2020-04-05      NaN      NaN          981      NaN   2470.0    1449.0   \n",
       "\n",
       "    deaths   tested  totcases  numpathosp  numpatICU  numpatventil  \n",
       "55    37.0  57874.0    2392.0         NaN        NaN           NaN  \n",
       "56    53.0  62733.0    2793.0       405.0      167.0         112.0  \n",
       "57    67.0  66753.0    3255.0       462.0      194.0         140.0  \n",
       "58    94.0  71338.0    3630.0       506.0      196.0         152.0  \n",
       "59   119.0  75046.0    4038.0       523.0      200.0         154.0  "
      ]
     },
     "execution_count": 27,
     "metadata": {},
     "output_type": "execute_result"
    }
   ],
   "source": [
    "df1.tail()"
   ]
  },
  {
   "cell_type": "code",
   "execution_count": 28,
   "metadata": {},
   "outputs": [
    {
     "name": "stdout",
     "output_type": "stream",
     "text": [
      "2020-04-05\n"
     ]
    },
    {
     "data": {
      "text/html": [
       "<div>\n",
       "<style scoped>\n",
       "    .dataframe tbody tr th:only-of-type {\n",
       "        vertical-align: middle;\n",
       "    }\n",
       "\n",
       "    .dataframe tbody tr th {\n",
       "        vertical-align: top;\n",
       "    }\n",
       "\n",
       "    .dataframe thead th {\n",
       "        text-align: right;\n",
       "    }\n",
       "</style>\n",
       "<table border=\"1\" class=\"dataframe\">\n",
       "  <thead>\n",
       "    <tr style=\"text-align: right;\">\n",
       "      <th></th>\n",
       "      <th>date</th>\n",
       "      <th>totcases</th>\n",
       "      <th>tested</th>\n",
       "      <th>deaths</th>\n",
       "      <th>resolved</th>\n",
       "    </tr>\n",
       "  </thead>\n",
       "  <tbody>\n",
       "    <tr>\n",
       "      <td>55</td>\n",
       "      <td>2020-04-01</td>\n",
       "      <td>2392.0</td>\n",
       "      <td>57874.0</td>\n",
       "      <td>37.0</td>\n",
       "      <td>674.0</td>\n",
       "    </tr>\n",
       "    <tr>\n",
       "      <td>56</td>\n",
       "      <td>2020-04-02</td>\n",
       "      <td>2793.0</td>\n",
       "      <td>62733.0</td>\n",
       "      <td>53.0</td>\n",
       "      <td>831.0</td>\n",
       "    </tr>\n",
       "    <tr>\n",
       "      <td>57</td>\n",
       "      <td>2020-04-03</td>\n",
       "      <td>3255.0</td>\n",
       "      <td>66753.0</td>\n",
       "      <td>67.0</td>\n",
       "      <td>1023.0</td>\n",
       "    </tr>\n",
       "    <tr>\n",
       "      <td>58</td>\n",
       "      <td>2020-04-04</td>\n",
       "      <td>3630.0</td>\n",
       "      <td>71338.0</td>\n",
       "      <td>94.0</td>\n",
       "      <td>1219.0</td>\n",
       "    </tr>\n",
       "    <tr>\n",
       "      <td>59</td>\n",
       "      <td>2020-04-05</td>\n",
       "      <td>4038.0</td>\n",
       "      <td>75046.0</td>\n",
       "      <td>119.0</td>\n",
       "      <td>1449.0</td>\n",
       "    </tr>\n",
       "  </tbody>\n",
       "</table>\n",
       "</div>"
      ],
      "text/plain": [
       "         date  totcases   tested  deaths  resolved\n",
       "55 2020-04-01    2392.0  57874.0    37.0     674.0\n",
       "56 2020-04-02    2793.0  62733.0    53.0     831.0\n",
       "57 2020-04-03    3255.0  66753.0    67.0    1023.0\n",
       "58 2020-04-04    3630.0  71338.0    94.0    1219.0\n",
       "59 2020-04-05    4038.0  75046.0   119.0    1449.0"
      ]
     },
     "execution_count": 28,
     "metadata": {},
     "output_type": "execute_result"
    }
   ],
   "source": [
    "totcasesOnt = df1[df1['date'] >= '2020-03-01'][['date', 'totcases', 'tested', 'deaths', 'resolved']]\n",
    "lastdateOnt1 = df1['date'].max().date()\n",
    "print(lastdateOnt1)\n",
    "totcasesOnt.tail()"
   ]
  },
  {
   "cell_type": "code",
   "execution_count": 29,
   "metadata": {},
   "outputs": [
    {
     "data": {
      "text/html": [
       "<div>\n",
       "<style scoped>\n",
       "    .dataframe tbody tr th:only-of-type {\n",
       "        vertical-align: middle;\n",
       "    }\n",
       "\n",
       "    .dataframe tbody tr th {\n",
       "        vertical-align: top;\n",
       "    }\n",
       "\n",
       "    .dataframe thead th {\n",
       "        text-align: right;\n",
       "    }\n",
       "</style>\n",
       "<table border=\"1\" class=\"dataframe\">\n",
       "  <thead>\n",
       "    <tr style=\"text-align: right;\">\n",
       "      <th></th>\n",
       "      <th>date</th>\n",
       "      <th>numpathosp</th>\n",
       "      <th>numpatICU</th>\n",
       "      <th>numpatventil</th>\n",
       "    </tr>\n",
       "  </thead>\n",
       "  <tbody>\n",
       "    <tr>\n",
       "      <td>55</td>\n",
       "      <td>2020-04-01</td>\n",
       "      <td>NaN</td>\n",
       "      <td>NaN</td>\n",
       "      <td>NaN</td>\n",
       "    </tr>\n",
       "    <tr>\n",
       "      <td>56</td>\n",
       "      <td>2020-04-02</td>\n",
       "      <td>405.0</td>\n",
       "      <td>167.0</td>\n",
       "      <td>112.0</td>\n",
       "    </tr>\n",
       "    <tr>\n",
       "      <td>57</td>\n",
       "      <td>2020-04-03</td>\n",
       "      <td>462.0</td>\n",
       "      <td>194.0</td>\n",
       "      <td>140.0</td>\n",
       "    </tr>\n",
       "    <tr>\n",
       "      <td>58</td>\n",
       "      <td>2020-04-04</td>\n",
       "      <td>506.0</td>\n",
       "      <td>196.0</td>\n",
       "      <td>152.0</td>\n",
       "    </tr>\n",
       "    <tr>\n",
       "      <td>59</td>\n",
       "      <td>2020-04-05</td>\n",
       "      <td>523.0</td>\n",
       "      <td>200.0</td>\n",
       "      <td>154.0</td>\n",
       "    </tr>\n",
       "  </tbody>\n",
       "</table>\n",
       "</div>"
      ],
      "text/plain": [
       "         date  numpathosp  numpatICU  numpatventil\n",
       "55 2020-04-01         NaN        NaN           NaN\n",
       "56 2020-04-02       405.0      167.0         112.0\n",
       "57 2020-04-03       462.0      194.0         140.0\n",
       "58 2020-04-04       506.0      196.0         152.0\n",
       "59 2020-04-05       523.0      200.0         154.0"
      ]
     },
     "execution_count": 29,
     "metadata": {},
     "output_type": "execute_result"
    }
   ],
   "source": [
    "numpathospOnt = df1[df1['date'] >= '2020-03-31'][['date', 'numpathosp', 'numpatICU', 'numpatventil']]\n",
    "numpathospOnt.tail()"
   ]
  },
  {
   "cell_type": "code",
   "execution_count": 30,
   "metadata": {},
   "outputs": [
    {
     "data": {
      "text/html": [
       "<div>\n",
       "<style scoped>\n",
       "    .dataframe tbody tr th:only-of-type {\n",
       "        vertical-align: middle;\n",
       "    }\n",
       "\n",
       "    .dataframe tbody tr th {\n",
       "        vertical-align: top;\n",
       "    }\n",
       "\n",
       "    .dataframe thead th {\n",
       "        text-align: right;\n",
       "    }\n",
       "</style>\n",
       "<table border=\"1\" class=\"dataframe\">\n",
       "  <thead>\n",
       "    <tr style=\"text-align: right;\">\n",
       "      <th></th>\n",
       "      <th>date</th>\n",
       "      <th>underinvest</th>\n",
       "      <th>confpos</th>\n",
       "    </tr>\n",
       "  </thead>\n",
       "  <tbody>\n",
       "    <tr>\n",
       "      <td>55</td>\n",
       "      <td>2020-04-01</td>\n",
       "      <td>3135</td>\n",
       "      <td>1681.0</td>\n",
       "    </tr>\n",
       "    <tr>\n",
       "      <td>56</td>\n",
       "      <td>2020-04-02</td>\n",
       "      <td>2052</td>\n",
       "      <td>1909.0</td>\n",
       "    </tr>\n",
       "    <tr>\n",
       "      <td>57</td>\n",
       "      <td>2020-04-03</td>\n",
       "      <td>1245</td>\n",
       "      <td>2165.0</td>\n",
       "    </tr>\n",
       "    <tr>\n",
       "      <td>58</td>\n",
       "      <td>2020-04-04</td>\n",
       "      <td>1336</td>\n",
       "      <td>2317.0</td>\n",
       "    </tr>\n",
       "    <tr>\n",
       "      <td>59</td>\n",
       "      <td>2020-04-05</td>\n",
       "      <td>981</td>\n",
       "      <td>2470.0</td>\n",
       "    </tr>\n",
       "  </tbody>\n",
       "</table>\n",
       "</div>"
      ],
      "text/plain": [
       "         date  underinvest  confpos\n",
       "55 2020-04-01         3135   1681.0\n",
       "56 2020-04-02         2052   1909.0\n",
       "57 2020-04-03         1245   2165.0\n",
       "58 2020-04-04         1336   2317.0\n",
       "59 2020-04-05          981   2470.0"
      ]
     },
     "execution_count": 30,
     "metadata": {},
     "output_type": "execute_result"
    }
   ],
   "source": [
    "confposOnt = df1[df1['date'] >= '2020-03-01'][['date', 'underinvest','confpos']]\n",
    "confposOnt.tail()"
   ]
  },
  {
   "cell_type": "code",
   "execution_count": 70,
   "metadata": {},
   "outputs": [
    {
     "data": {
      "image/png": "[encoded data removed]",
      "text/plain": [
       "<Figure size 1080x288 with 2 Axes>"
      ]
     },
     "metadata": {
      "needs_background": "light"
     },
     "output_type": "display_data"
    }
   ],
   "source": [
    "xticksOnt1 = ['2020-03-01', '2020-03-15', lastdateOnt1]\n",
    "\n",
    "f = plt.figure(figsize=(15,4))\n",
    "\n",
    "ax1 = f.add_subplot(121)\n",
    "ax2 = f.add_subplot(122)\n",
    "\n",
    "ax1.bar(totcasesOnt['date'], totcasesOnt['totcases'], color='orange')\n",
    "ax1.set_xlabel('Date', fontsize=14)  # Add an x-label to the axes.\n",
    "ax1.set_ylabel('Number of residents', fontsize=14)  # Add a y-label to the axes.\n",
    "ax1.set_title('Confirmed cases in Ontario until ' + str(lastdateOnt1), fontsize=14);  # Add a title to the axes.\n",
    "ax1.set_xticks(xticksOnt1);\n",
    "\n",
    "ax2.bar(totcasesOnt['date'], totcasesOnt['tested']) #, color=['red', 'yellow', 'green'])\n",
    "ax2.set_xlabel('Date', fontsize=14)  # Add an x-label to the axes.\n",
    "ax2.set_ylabel('Number of residents', fontsize=14)  # Add a y-label to the axes.\n",
    "ax2.set_title('Residents Tested in Ontario until ' + str(lastdateOnt1), fontsize=14);  # Add a title to the axes.\n",
    "ax2.set_xticks(xticksOnt1);"
   ]
  },
  {
   "cell_type": "code",
   "execution_count": 67,
   "metadata": {},
   "outputs": [
    {
     "data": {
      "image/png": "[encoded data removed]",
      "text/plain": [
       "<Figure size 1152x792 with 4 Axes>"
      ]
     },
     "metadata": {
      "needs_background": "light"
     },
     "output_type": "display_data"
    }
   ],
   "source": [
    "xticksOnt1 = ['2020-03-01', '2020-03-20', lastdateOnt1]\n",
    "\n",
    "f = plt.figure(figsize=(16,11))\n",
    "\n",
    "ax1 = f.add_subplot(221)\n",
    "ax2 = f.add_subplot(222)\n",
    "ax3 = f.add_subplot(223)\n",
    "ax4 = f.add_subplot(224)\n",
    "\n",
    "ax1.bar(totcasesOnt['date'], totcasesOnt['deaths'], color='red')\n",
    "ax1.set_xlabel('Date', fontsize=14)  # Add an x-label to the axes.\n",
    "ax1.set_ylabel('Number of residents', fontsize=14)  # Add a y-label to the axes.\n",
    "ax1.set_title('Number of Deaths in Ontario until ' + str(lastdateOnt1), fontsize=14);  # Add a title to the axes.\n",
    "ax1.set_xticks(xticksOnt1)\n",
    "\n",
    "ax2.bar(totcasesOnt['date'], totcasesOnt['resolved'], color='green')\n",
    "ax2.set_xlabel('Date', fontsize=14)  # Add an x-label to the axes.\n",
    "ax2.set_ylabel('Number of residents', fontsize=14)  # Add a y-label to the axes.\n",
    "ax2.set_title('Number of Resolved Cases in Ontario until ' + str(lastdateOnt1), fontsize=14);  # Add a title to the axes.\n",
    "ax2.set_xticks(xticksOnt1)\n",
    "\n",
    "ax3.bar(confposOnt['date'], confposOnt['confpos'], color='orange')\n",
    "ax3.set_xlabel('Date', fontsize=14)  # Add an x-label to the axes.\n",
    "ax3.set_ylabel('Number of residents', fontsize=14)  # Add a y-label to the axes.\n",
    "ax3.set_title('Patients Confirmed Positive in Ontario until ' + str(lastdateOnt1), fontsize=14);  # Add a title to the axes.\n",
    "ax3.set_xticks(xticksOnt1)\n",
    "\n",
    "ax4.bar(confposOnt['date'], confposOnt['underinvest']) #, color=['red', 'yellow', 'green'])\n",
    "ax4.set_xlabel('Date', fontsize=14)  # Add an x-label to the axes.\n",
    "ax4.set_ylabel('Number of residents', fontsize=14)  # Add a y-label to the axes.\n",
    "ax4.set_title('Patients Under Investigation in Ontario until ' + str(lastdateOnt1), fontsize=14);  # Add a title to the axes.\n",
    "ax4.set_xticks(xticksOnt1);"
   ]
  },
  {
   "cell_type": "code",
   "execution_count": 47,
   "metadata": {},
   "outputs": [
    {
     "data": {
      "image/png": "[encoded data removed]",
      "text/plain": [
       "<Figure size 1224x288 with 3 Axes>"
      ]
     },
     "metadata": {
      "needs_background": "light"
     },
     "output_type": "display_data"
    }
   ],
   "source": [
    "xticksOnt1 = ['2020-03-31', '2020-03-31', lastdateOnt1]\n",
    "\n",
    "f = plt.figure(figsize=(17,4))\n",
    "\n",
    "ax1 = f.add_subplot(131)\n",
    "ax2 = f.add_subplot(132)\n",
    "ax3 = f.add_subplot(133)\n",
    "\n",
    "ax1.bar(numpathospOnt['date'], numpathospOnt['numpathosp'])\n",
    "ax1.set_xlabel('Date', fontsize=14)  # Add an x-label to the axes.\n",
    "ax1.set_ylabel('Number of residents', fontsize=14)  # Add a y-label to the axes.\n",
    "ax1.set_title('Patients Hospitalized in Ontario until ' + str(lastdateOnt1), fontsize=12);  # Add a title to the axes.\n",
    "ax1.set_xticks(xticksOnt1);\n",
    "\n",
    "ax2.bar(numpathospOnt['date'], numpathospOnt['numpatICU'], color='orange')\n",
    "ax2.set_xlabel('Date', fontsize=14)  # Add an x-label to the axes.\n",
    "ax2.set_ylabel('Number of residents', fontsize=14)  # Add a y-label to the axes.\n",
    "ax2.set_title('Patients in ICU in Ontario until ' + str(lastdateOnt1), fontsize=12);  # Add a title to the axes.\n",
    "ax2.set_xticks(xticksOnt1);\n",
    "\n",
    "ax3.bar(numpathospOnt['date'], numpathospOnt['numpatventil'], color='red')\n",
    "ax3.set_xlabel('Date', fontsize=14)  # Add an x-label to the axes.\n",
    "ax3.set_ylabel('Number of residents', fontsize=14)  # Add a y-label to the axes.\n",
    "ax3.set_title('Patients in Ventilator in Ontario until ' + str(lastdateOnt1), fontsize=12);  # Add a title to the axes.\n",
    "ax3.set_xticks(xticksOnt1);"
   ]
  },
  {
   "cell_type": "markdown",
   "metadata": {},
   "source": [
    "### The progression of the cumulative contamination is different in the two datasets but the numbers are converging"
   ]
  },
  {
   "cell_type": "code",
   "execution_count": 35,
   "metadata": {},
   "outputs": [
    {
     "data": {
      "text/plain": [
       "date\n",
       "2020-01-21       1\n",
       "2020-01-22       2\n",
       "2020-01-24       3\n",
       "2020-01-25       4\n",
       "2020-02-05       5\n",
       "2020-02-10       6\n",
       "2020-02-14       8\n",
       "2020-02-15       9\n",
       "2020-02-16      10\n",
       "2020-02-20      14\n",
       "2020-02-21      15\n",
       "2020-02-22      17\n",
       "2020-02-23      20\n",
       "2020-02-24      22\n",
       "2020-02-25      24\n",
       "2020-02-26      27\n",
       "2020-02-27      28\n",
       "2020-02-28      32\n",
       "2020-02-29      35\n",
       "2020-03-01      42\n",
       "2020-03-02      53\n",
       "2020-03-03      63\n",
       "2020-03-04      70\n",
       "2020-03-05      84\n",
       "2020-03-06     104\n",
       "2020-03-07     126\n",
       "2020-03-08     158\n",
       "2020-03-09     207\n",
       "2020-03-10     277\n",
       "2020-03-11     348\n",
       "2020-03-12     431\n",
       "2020-03-13     514\n",
       "2020-03-14     609\n",
       "2020-03-15     712\n",
       "2020-03-16     864\n",
       "2020-03-17    1027\n",
       "2020-03-18    1198\n",
       "2020-03-19    1347\n",
       "2020-03-20    1552\n",
       "2020-03-21    1700\n",
       "2020-03-22    1840\n",
       "2020-03-23    2032\n",
       "2020-03-24    2196\n",
       "2020-03-25    2351\n",
       "2020-03-26    2534\n",
       "2020-03-27    2703\n",
       "2020-03-28    2879\n",
       "2020-03-29    3013\n",
       "2020-03-30    3219\n",
       "2020-03-31    3401\n",
       "2020-04-01    3505\n",
       "2020-04-02    3564\n",
       "2020-04-03    3630\n",
       "Name: date, dtype: int64"
      ]
     },
     "execution_count": 35,
     "metadata": {},
     "output_type": "execute_result"
    }
   ],
   "source": [
    "cases = df.groupby('date')['date'].count().cumsum()\n",
    "cases"
   ]
  },
  {
   "cell_type": "code",
   "execution_count": 36,
   "metadata": {},
   "outputs": [
    {
     "data": {
      "text/html": [
       "<div>\n",
       "<style scoped>\n",
       "    .dataframe tbody tr th:only-of-type {\n",
       "        vertical-align: middle;\n",
       "    }\n",
       "\n",
       "    .dataframe tbody tr th {\n",
       "        vertical-align: top;\n",
       "    }\n",
       "\n",
       "    .dataframe thead th {\n",
       "        text-align: right;\n",
       "    }\n",
       "</style>\n",
       "<table border=\"1\" class=\"dataframe\">\n",
       "  <thead>\n",
       "    <tr style=\"text-align: right;\">\n",
       "      <th></th>\n",
       "      <th>date</th>\n",
       "      <th>totcases</th>\n",
       "    </tr>\n",
       "  </thead>\n",
       "  <tbody>\n",
       "    <tr>\n",
       "      <td>0</td>\n",
       "      <td>2020-01-26</td>\n",
       "      <td>NaN</td>\n",
       "    </tr>\n",
       "    <tr>\n",
       "      <td>1</td>\n",
       "      <td>2020-01-27</td>\n",
       "      <td>NaN</td>\n",
       "    </tr>\n",
       "    <tr>\n",
       "      <td>2</td>\n",
       "      <td>2020-01-28</td>\n",
       "      <td>1.0</td>\n",
       "    </tr>\n",
       "    <tr>\n",
       "      <td>3</td>\n",
       "      <td>2020-01-30</td>\n",
       "      <td>2.0</td>\n",
       "    </tr>\n",
       "    <tr>\n",
       "      <td>4</td>\n",
       "      <td>2020-01-31</td>\n",
       "      <td>2.0</td>\n",
       "    </tr>\n",
       "    <tr>\n",
       "      <td>5</td>\n",
       "      <td>2020-02-03</td>\n",
       "      <td>3.0</td>\n",
       "    </tr>\n",
       "    <tr>\n",
       "      <td>6</td>\n",
       "      <td>2020-02-04</td>\n",
       "      <td>3.0</td>\n",
       "    </tr>\n",
       "    <tr>\n",
       "      <td>7</td>\n",
       "      <td>2020-02-05</td>\n",
       "      <td>3.0</td>\n",
       "    </tr>\n",
       "    <tr>\n",
       "      <td>8</td>\n",
       "      <td>2020-02-06</td>\n",
       "      <td>3.0</td>\n",
       "    </tr>\n",
       "    <tr>\n",
       "      <td>9</td>\n",
       "      <td>2020-02-08</td>\n",
       "      <td>3.0</td>\n",
       "    </tr>\n",
       "    <tr>\n",
       "      <td>10</td>\n",
       "      <td>2020-02-10</td>\n",
       "      <td>3.0</td>\n",
       "    </tr>\n",
       "    <tr>\n",
       "      <td>11</td>\n",
       "      <td>2020-02-11</td>\n",
       "      <td>3.0</td>\n",
       "    </tr>\n",
       "    <tr>\n",
       "      <td>12</td>\n",
       "      <td>2020-02-12</td>\n",
       "      <td>3.0</td>\n",
       "    </tr>\n",
       "    <tr>\n",
       "      <td>13</td>\n",
       "      <td>2020-02-13</td>\n",
       "      <td>3.0</td>\n",
       "    </tr>\n",
       "    <tr>\n",
       "      <td>14</td>\n",
       "      <td>2020-02-14</td>\n",
       "      <td>3.0</td>\n",
       "    </tr>\n",
       "    <tr>\n",
       "      <td>15</td>\n",
       "      <td>2020-02-17</td>\n",
       "      <td>3.0</td>\n",
       "    </tr>\n",
       "    <tr>\n",
       "      <td>16</td>\n",
       "      <td>2020-02-18</td>\n",
       "      <td>3.0</td>\n",
       "    </tr>\n",
       "    <tr>\n",
       "      <td>17</td>\n",
       "      <td>2020-02-19</td>\n",
       "      <td>3.0</td>\n",
       "    </tr>\n",
       "    <tr>\n",
       "      <td>18</td>\n",
       "      <td>2020-02-20</td>\n",
       "      <td>3.0</td>\n",
       "    </tr>\n",
       "    <tr>\n",
       "      <td>19</td>\n",
       "      <td>2020-02-21</td>\n",
       "      <td>3.0</td>\n",
       "    </tr>\n",
       "    <tr>\n",
       "      <td>20</td>\n",
       "      <td>2020-02-24</td>\n",
       "      <td>4.0</td>\n",
       "    </tr>\n",
       "    <tr>\n",
       "      <td>21</td>\n",
       "      <td>2020-02-25</td>\n",
       "      <td>4.0</td>\n",
       "    </tr>\n",
       "    <tr>\n",
       "      <td>22</td>\n",
       "      <td>2020-02-26</td>\n",
       "      <td>4.0</td>\n",
       "    </tr>\n",
       "    <tr>\n",
       "      <td>23</td>\n",
       "      <td>2020-02-27</td>\n",
       "      <td>5.0</td>\n",
       "    </tr>\n",
       "    <tr>\n",
       "      <td>24</td>\n",
       "      <td>2020-02-28</td>\n",
       "      <td>6.0</td>\n",
       "    </tr>\n",
       "    <tr>\n",
       "      <td>25</td>\n",
       "      <td>2020-03-02</td>\n",
       "      <td>18.0</td>\n",
       "    </tr>\n",
       "    <tr>\n",
       "      <td>26</td>\n",
       "      <td>2020-03-03</td>\n",
       "      <td>20.0</td>\n",
       "    </tr>\n",
       "    <tr>\n",
       "      <td>27</td>\n",
       "      <td>2020-03-04</td>\n",
       "      <td>20.0</td>\n",
       "    </tr>\n",
       "    <tr>\n",
       "      <td>28</td>\n",
       "      <td>2020-03-05</td>\n",
       "      <td>22.0</td>\n",
       "    </tr>\n",
       "    <tr>\n",
       "      <td>29</td>\n",
       "      <td>2020-03-06</td>\n",
       "      <td>26.0</td>\n",
       "    </tr>\n",
       "    <tr>\n",
       "      <td>30</td>\n",
       "      <td>2020-03-07</td>\n",
       "      <td>28.0</td>\n",
       "    </tr>\n",
       "    <tr>\n",
       "      <td>31</td>\n",
       "      <td>2020-03-08</td>\n",
       "      <td>29.0</td>\n",
       "    </tr>\n",
       "    <tr>\n",
       "      <td>32</td>\n",
       "      <td>2020-03-09</td>\n",
       "      <td>35.0</td>\n",
       "    </tr>\n",
       "    <tr>\n",
       "      <td>33</td>\n",
       "      <td>2020-03-10</td>\n",
       "      <td>36.0</td>\n",
       "    </tr>\n",
       "    <tr>\n",
       "      <td>34</td>\n",
       "      <td>2020-03-11</td>\n",
       "      <td>42.0</td>\n",
       "    </tr>\n",
       "    <tr>\n",
       "      <td>35</td>\n",
       "      <td>2020-03-12</td>\n",
       "      <td>59.0</td>\n",
       "    </tr>\n",
       "    <tr>\n",
       "      <td>36</td>\n",
       "      <td>2020-03-13</td>\n",
       "      <td>79.0</td>\n",
       "    </tr>\n",
       "    <tr>\n",
       "      <td>37</td>\n",
       "      <td>2020-03-14</td>\n",
       "      <td>103.0</td>\n",
       "    </tr>\n",
       "    <tr>\n",
       "      <td>38</td>\n",
       "      <td>2020-03-15</td>\n",
       "      <td>145.0</td>\n",
       "    </tr>\n",
       "    <tr>\n",
       "      <td>39</td>\n",
       "      <td>2020-03-16</td>\n",
       "      <td>177.0</td>\n",
       "    </tr>\n",
       "    <tr>\n",
       "      <td>40</td>\n",
       "      <td>2020-03-17</td>\n",
       "      <td>189.0</td>\n",
       "    </tr>\n",
       "    <tr>\n",
       "      <td>41</td>\n",
       "      <td>2020-03-18</td>\n",
       "      <td>214.0</td>\n",
       "    </tr>\n",
       "    <tr>\n",
       "      <td>42</td>\n",
       "      <td>2020-03-19</td>\n",
       "      <td>258.0</td>\n",
       "    </tr>\n",
       "    <tr>\n",
       "      <td>43</td>\n",
       "      <td>2020-03-20</td>\n",
       "      <td>318.0</td>\n",
       "    </tr>\n",
       "    <tr>\n",
       "      <td>44</td>\n",
       "      <td>2020-03-21</td>\n",
       "      <td>377.0</td>\n",
       "    </tr>\n",
       "    <tr>\n",
       "      <td>45</td>\n",
       "      <td>2020-03-22</td>\n",
       "      <td>425.0</td>\n",
       "    </tr>\n",
       "    <tr>\n",
       "      <td>46</td>\n",
       "      <td>2020-03-23</td>\n",
       "      <td>503.0</td>\n",
       "    </tr>\n",
       "    <tr>\n",
       "      <td>47</td>\n",
       "      <td>2020-03-24</td>\n",
       "      <td>588.0</td>\n",
       "    </tr>\n",
       "    <tr>\n",
       "      <td>48</td>\n",
       "      <td>2020-03-25</td>\n",
       "      <td>688.0</td>\n",
       "    </tr>\n",
       "    <tr>\n",
       "      <td>49</td>\n",
       "      <td>2020-03-26</td>\n",
       "      <td>858.0</td>\n",
       "    </tr>\n",
       "    <tr>\n",
       "      <td>50</td>\n",
       "      <td>2020-03-27</td>\n",
       "      <td>993.0</td>\n",
       "    </tr>\n",
       "    <tr>\n",
       "      <td>51</td>\n",
       "      <td>2020-03-28</td>\n",
       "      <td>1144.0</td>\n",
       "    </tr>\n",
       "    <tr>\n",
       "      <td>52</td>\n",
       "      <td>2020-03-29</td>\n",
       "      <td>1355.0</td>\n",
       "    </tr>\n",
       "    <tr>\n",
       "      <td>53</td>\n",
       "      <td>2020-03-30</td>\n",
       "      <td>1706.0</td>\n",
       "    </tr>\n",
       "    <tr>\n",
       "      <td>54</td>\n",
       "      <td>2020-03-31</td>\n",
       "      <td>1966.0</td>\n",
       "    </tr>\n",
       "    <tr>\n",
       "      <td>55</td>\n",
       "      <td>2020-04-01</td>\n",
       "      <td>2392.0</td>\n",
       "    </tr>\n",
       "    <tr>\n",
       "      <td>56</td>\n",
       "      <td>2020-04-02</td>\n",
       "      <td>2793.0</td>\n",
       "    </tr>\n",
       "    <tr>\n",
       "      <td>57</td>\n",
       "      <td>2020-04-03</td>\n",
       "      <td>3255.0</td>\n",
       "    </tr>\n",
       "    <tr>\n",
       "      <td>58</td>\n",
       "      <td>2020-04-04</td>\n",
       "      <td>3630.0</td>\n",
       "    </tr>\n",
       "    <tr>\n",
       "      <td>59</td>\n",
       "      <td>2020-04-05</td>\n",
       "      <td>4038.0</td>\n",
       "    </tr>\n",
       "  </tbody>\n",
       "</table>\n",
       "</div>"
      ],
      "text/plain": [
       "         date  totcases\n",
       "0  2020-01-26       NaN\n",
       "1  2020-01-27       NaN\n",
       "2  2020-01-28       1.0\n",
       "3  2020-01-30       2.0\n",
       "4  2020-01-31       2.0\n",
       "5  2020-02-03       3.0\n",
       "6  2020-02-04       3.0\n",
       "7  2020-02-05       3.0\n",
       "8  2020-02-06       3.0\n",
       "9  2020-02-08       3.0\n",
       "10 2020-02-10       3.0\n",
       "11 2020-02-11       3.0\n",
       "12 2020-02-12       3.0\n",
       "13 2020-02-13       3.0\n",
       "14 2020-02-14       3.0\n",
       "15 2020-02-17       3.0\n",
       "16 2020-02-18       3.0\n",
       "17 2020-02-19       3.0\n",
       "18 2020-02-20       3.0\n",
       "19 2020-02-21       3.0\n",
       "20 2020-02-24       4.0\n",
       "21 2020-02-25       4.0\n",
       "22 2020-02-26       4.0\n",
       "23 2020-02-27       5.0\n",
       "24 2020-02-28       6.0\n",
       "25 2020-03-02      18.0\n",
       "26 2020-03-03      20.0\n",
       "27 2020-03-04      20.0\n",
       "28 2020-03-05      22.0\n",
       "29 2020-03-06      26.0\n",
       "30 2020-03-07      28.0\n",
       "31 2020-03-08      29.0\n",
       "32 2020-03-09      35.0\n",
       "33 2020-03-10      36.0\n",
       "34 2020-03-11      42.0\n",
       "35 2020-03-12      59.0\n",
       "36 2020-03-13      79.0\n",
       "37 2020-03-14     103.0\n",
       "38 2020-03-15     145.0\n",
       "39 2020-03-16     177.0\n",
       "40 2020-03-17     189.0\n",
       "41 2020-03-18     214.0\n",
       "42 2020-03-19     258.0\n",
       "43 2020-03-20     318.0\n",
       "44 2020-03-21     377.0\n",
       "45 2020-03-22     425.0\n",
       "46 2020-03-23     503.0\n",
       "47 2020-03-24     588.0\n",
       "48 2020-03-25     688.0\n",
       "49 2020-03-26     858.0\n",
       "50 2020-03-27     993.0\n",
       "51 2020-03-28    1144.0\n",
       "52 2020-03-29    1355.0\n",
       "53 2020-03-30    1706.0\n",
       "54 2020-03-31    1966.0\n",
       "55 2020-04-01    2392.0\n",
       "56 2020-04-02    2793.0\n",
       "57 2020-04-03    3255.0\n",
       "58 2020-04-04    3630.0\n",
       "59 2020-04-05    4038.0"
      ]
     },
     "execution_count": 36,
     "metadata": {},
     "output_type": "execute_result"
    }
   ],
   "source": [
    "df1[['date', 'totcases']]"
   ]
  },
  {
   "cell_type": "code",
   "execution_count": 37,
   "metadata": {},
   "outputs": [
    {
     "data": {
      "image/png": "[encoded data removed]",
      "text/plain": [
       "<Figure size 1152x288 with 1 Axes>"
      ]
     },
     "metadata": {
      "needs_background": "light"
     },
     "output_type": "display_data"
    }
   ],
   "source": [
    "xticksOnt1 = ['2020-01-20', '2020-02-15','2020-03-15', lastdateOnt1]\n",
    "\n",
    "f = plt.figure(figsize=(16,4))\n",
    "\n",
    "ax1 = f.add_subplot(121)\n",
    "\n",
    "ax1.plot(cases.index, cases.values, color='orange', label='Positives dataset')\n",
    "ax1.plot(df1['date'], df1['totcases'], color='red', label='Status dataset')\n",
    "ax1.set_xlabel('Date', fontsize=14)  # Add an x-label to the axes.\n",
    "ax1.set_ylabel('Number of residents', fontsize=14)  # Add a y-label to the axes.\n",
    "ax1.set_title('Patients Confirmed Positive in Ontario until ' + str(lastdateOnt1), fontsize=14);  # Add a title to the axes.\n",
    "ax1.set_xticks(xticksOnt1)\n",
    "ax1.legend();"
   ]
  },
  {
   "cell_type": "code",
   "execution_count": null,
   "metadata": {},
   "outputs": [],
   "source": []
  }
 ],
 "metadata": {
  "kernelspec": {
   "display_name": "Python 3",
   "language": "python",
   "name": "python3"
  },
  "language_info": {
   "codemirror_mode": {
    "name": "ipython",
    "version": 3
   },
   "file_extension": ".py",
   "mimetype": "text/x-python",
   "name": "python",
   "nbconvert_exporter": "python",
   "pygments_lexer": "ipython3",
   "version": "3.7.3"
  }
 },
 "nbformat": 4,
 "nbformat_minor": 4
}
