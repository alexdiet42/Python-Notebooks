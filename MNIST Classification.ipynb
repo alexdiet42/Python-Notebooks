{
 "cells": [
  {
   "cell_type": "markdown",
   "metadata": {},
   "source": [
    "# I2AI Experience\n",
    "\n",
    "## Fundamentos de Inteligência Artificial\n",
    "\n",
    "## By Alexandre Dietrich\n",
    "\n",
    "#### Image Classification with Deep Learning\n",
    "\n",
    "#### Dataset: MNIST\n",
    "\n",
    "#### Date: 16/11/20"
   ]
  },
  {
   "cell_type": "markdown",
   "metadata": {},
   "source": [
    "## Tools\n",
    "### Python, Numpy, Matplotlib, Keras and TensorFlow"
   ]
  },
  {
   "cell_type": "code",
   "execution_count": 1,
   "metadata": {},
   "outputs": [],
   "source": [
    "import matplotlib.pyplot as plt\n",
    "import numpy as np\n",
    "import warnings\n",
    "warnings.filterwarnings('ignore')\n",
    "\n",
    "from tensorflow.keras.datasets import mnist\n",
    "from tensorflow.keras import models\n",
    "from tensorflow.keras import layers\n",
    "from tensorflow import keras"
   ]
  },
  {
   "cell_type": "markdown",
   "metadata": {},
   "source": [
    "# 2 - Data Phase"
   ]
  },
  {
   "cell_type": "markdown",
   "metadata": {},
   "source": [
    "## Collect Data"
   ]
  },
  {
   "cell_type": "code",
   "execution_count": 2,
   "metadata": {},
   "outputs": [],
   "source": [
    "(X_train_images, Y_train_labels), (X_test_images, Y_test_labels) = mnist.load_data()"
   ]
  },
  {
   "cell_type": "markdown",
   "metadata": {},
   "source": [
    "## Explore and Analyze Data"
   ]
  },
  {
   "cell_type": "code",
   "execution_count": 3,
   "metadata": {},
   "outputs": [
    {
     "name": "stdout",
     "output_type": "stream",
     "text": [
      "3\n"
     ]
    }
   ],
   "source": [
    "print(X_train_images.ndim)"
   ]
  },
  {
   "cell_type": "code",
   "execution_count": 4,
   "metadata": {},
   "outputs": [
    {
     "name": "stdout",
     "output_type": "stream",
     "text": [
      "(60000, 28, 28)\n"
     ]
    }
   ],
   "source": [
    "print(X_train_images.shape)"
   ]
  },
  {
   "cell_type": "code",
   "execution_count": 5,
   "metadata": {},
   "outputs": [
    {
     "name": "stdout",
     "output_type": "stream",
     "text": [
      "uint8\n"
     ]
    }
   ],
   "source": [
    "print(X_train_images.dtype)"
   ]
  },
  {
   "cell_type": "code",
   "execution_count": 6,
   "metadata": {},
   "outputs": [
    {
     "name": "stdout",
     "output_type": "stream",
     "text": [
      "           Label =  9\n"
     ]
    },
    {
     "data": {
      "image/png": "[encoded data removed]",
      "text/plain": [
       "<Figure size 432x288 with 1 Axes>"
      ]
     },
     "metadata": {
      "needs_background": "light"
     },
     "output_type": "display_data"
    }
   ],
   "source": [
    "digit = X_train_images[4]\n",
    "\n",
    "print('           Label = ', Y_train_labels[4])\n",
    "\n",
    "plt.imshow(digit, cmap=plt.cm.binary)\n",
    "plt.show()"
   ]
  },
  {
   "cell_type": "code",
   "execution_count": 7,
   "metadata": {},
   "outputs": [
    {
     "name": "stdout",
     "output_type": "stream",
     "text": [
      "           Label =  3\n"
     ]
    },
    {
     "data": {
      "image/png": "[encoded data removed]",
      "text/plain": [
       "<Figure size 432x288 with 1 Axes>"
      ]
     },
     "metadata": {
      "needs_background": "light"
     },
     "output_type": "display_data"
    }
   ],
   "source": [
    "digit = X_train_images[10]\n",
    "\n",
    "print('           Label = ', Y_train_labels[10])\n",
    "\n",
    "plt.imshow(digit, cmap=plt.cm.binary)\n",
    "plt.show()"
   ]
  },
  {
   "cell_type": "markdown",
   "metadata": {},
   "source": [
    "## Clean and Transform Data"
   ]
  },
  {
   "cell_type": "markdown",
   "metadata": {},
   "source": [
    "<div align=\"left\">\n",
    "<img src=\"images/MNIST data transformation.png\" alt=\"Drawing\" style=\"width: 600px;\"/>\n",
    "</div>"
   ]
  },
  {
   "cell_type": "code",
   "execution_count": 8,
   "metadata": {},
   "outputs": [],
   "source": [
    "X_test_images_orig = X_test_images\n",
    "\n",
    "X_train_images = X_train_images.reshape((60000, 28 * 28))\n",
    "X_train_images = X_train_images.astype('float32') / 255\n",
    "X_test_images = X_test_images.reshape((10000, 28 * 28))\n",
    "X_test_images = X_test_images.astype('float32') / 255"
   ]
  },
  {
   "cell_type": "markdown",
   "metadata": {},
   "source": [
    "# 3 - Modelling/Training Phase"
   ]
  },
  {
   "cell_type": "markdown",
   "metadata": {},
   "source": [
    "## Define Neural Network Model Architecture"
   ]
  },
  {
   "cell_type": "code",
   "execution_count": 9,
   "metadata": {},
   "outputs": [],
   "source": [
    "model = models.Sequential([\n",
    "        layers.Dense(512, activation='relu'),\n",
    "        layers.Dense(10, activation='softmax')])"
   ]
  },
  {
   "cell_type": "markdown",
   "metadata": {},
   "source": [
    "<div align=\"left\">\n",
    "<img src=\"images/NN Architecture.png\" alt=\"Drawing\" style=\"width: 600px;\"/>\n",
    "</div>"
   ]
  },
  {
   "cell_type": "markdown",
   "metadata": {},
   "source": [
    "## Define Hyperparameters"
   ]
  },
  {
   "cell_type": "markdown",
   "metadata": {},
   "source": [
    "<div align=\"left\">\n",
    "<img src=\"images/Compile.png\" alt=\"Drawing\" style=\"width: 600px;\"/>\n",
    "</div>"
   ]
  },
  {
   "cell_type": "code",
   "execution_count": 10,
   "metadata": {},
   "outputs": [
    {
     "name": "stdout",
     "output_type": "stream",
     "text": [
      "WARNING:tensorflow:From /Users/alexandredietrich/anaconda3/envs/uwaterloo/lib/python3.7/site-packages/tensorflow/python/ops/resource_variable_ops.py:435: colocate_with (from tensorflow.python.framework.ops) is deprecated and will be removed in a future version.\n",
      "Instructions for updating:\n",
      "Colocations handled automatically by placer.\n"
     ]
    }
   ],
   "source": [
    "model.compile(optimizer=keras.optimizers.RMSprop(0.01),\n",
    "              loss='sparse_categorical_crossentropy',\n",
    "              metrics=['accuracy'])"
   ]
  },
  {
   "cell_type": "markdown",
   "metadata": {},
   "source": [
    "## Train Neural Network Model"
   ]
  },
  {
   "cell_type": "markdown",
   "metadata": {},
   "source": [
    "<div align=\"left\">\n",
    "<img src=\"images/Training loop.png\" alt=\"Drawing\" style=\"width: 600px;\"/>\n",
    "</div>"
   ]
  },
  {
   "cell_type": "code",
   "execution_count": 11,
   "metadata": {},
   "outputs": [
    {
     "name": "stdout",
     "output_type": "stream",
     "text": [
      "Epoch 1/20\n",
      "60000/60000 [==============================] - 2s 28us/sample - loss: 0.3491 - acc: 0.9201\n",
      "Epoch 2/20\n",
      "60000/60000 [==============================] - 1s 25us/sample - loss: 0.1452 - acc: 0.9648\n",
      "Epoch 3/20\n",
      "60000/60000 [==============================] - 2s 27us/sample - loss: 0.1270 - acc: 0.9742\n",
      "Epoch 4/20\n",
      "60000/60000 [==============================] - 2s 25us/sample - loss: 0.1157 - acc: 0.97810s - loss: 0.1135 - acc:\n",
      "Epoch 5/20\n",
      "60000/60000 [==============================] - 2s 33us/sample - loss: 0.1021 - acc: 0.9818\n",
      "Epoch 6/20\n",
      "60000/60000 [==============================] - 2s 28us/sample - loss: 0.0958 - acc: 0.9832\n",
      "Epoch 7/20\n",
      "60000/60000 [==============================] - 2s 34us/sample - loss: 0.0975 - acc: 0.9851\n",
      "Epoch 8/20\n",
      "60000/60000 [==============================] - 2s 36us/sample - loss: 0.0898 - acc: 0.9871\n",
      "Epoch 9/20\n",
      "60000/60000 [==============================] - ETA: 0s - loss: 0.0875 - acc: 0.987 - 2s 30us/sample - loss: 0.0866 - acc: 0.9878\n",
      "Epoch 10/20\n",
      "60000/60000 [==============================] - 2s 29us/sample - loss: 0.0809 - acc: 0.9893\n",
      "Epoch 11/20\n",
      "60000/60000 [==============================] - 2s 31us/sample - loss: 0.0823 - acc: 0.9898\n",
      "Epoch 12/20\n",
      "60000/60000 [==============================] - 2s 33us/sample - loss: 0.0850 - acc: 0.9896\n",
      "Epoch 13/20\n",
      "60000/60000 [==============================] - 2s 27us/sample - loss: 0.0770 - acc: 0.9910\n",
      "Epoch 14/20\n",
      "60000/60000 [==============================] - 2s 27us/sample - loss: 0.0706 - acc: 0.9913\n",
      "Epoch 15/20\n",
      "60000/60000 [==============================] - 2s 30us/sample - loss: 0.0681 - acc: 0.9917\n",
      "Epoch 16/20\n",
      "60000/60000 [==============================] - 2s 30us/sample - loss: 0.0642 - acc: 0.9926\n",
      "Epoch 17/20\n",
      "60000/60000 [==============================] - 2s 28us/sample - loss: 0.0584 - acc: 0.9933\n",
      "Epoch 18/20\n",
      "60000/60000 [==============================] - 2s 27us/sample - loss: 0.0634 - acc: 0.9930\n",
      "Epoch 19/20\n",
      "60000/60000 [==============================] - 2s 31us/sample - loss: 0.0651 - acc: 0.9928\n",
      "Epoch 20/20\n",
      "60000/60000 [==============================] - 2s 28us/sample - loss: 0.0678 - acc: 0.9929\n"
     ]
    }
   ],
   "source": [
    "history = model.fit(X_train_images, Y_train_labels, epochs=20, batch_size=128)"
   ]
  },
  {
   "cell_type": "markdown",
   "metadata": {},
   "source": [
    "<div align=\"left\">\n",
    "<img src=\"images/After training.png\" alt=\"Drawing\" style=\"width: 600px;\"/>\n",
    "</div>"
   ]
  },
  {
   "cell_type": "code",
   "execution_count": 12,
   "metadata": {},
   "outputs": [
    {
     "name": "stdout",
     "output_type": "stream",
     "text": [
      "_________________________________________________________________\n",
      "Layer (type)                 Output Shape              Param #   \n",
      "=================================================================\n",
      "dense (Dense)                multiple                  401920    \n",
      "_________________________________________________________________\n",
      "dense_1 (Dense)              multiple                  5130      \n",
      "=================================================================\n",
      "Total params: 407,050\n",
      "Trainable params: 407,050\n",
      "Non-trainable params: 0\n",
      "_________________________________________________________________\n"
     ]
    }
   ],
   "source": [
    "model.summary()"
   ]
  },
  {
   "cell_type": "markdown",
   "metadata": {},
   "source": [
    "## Evaluate Model"
   ]
  },
  {
   "cell_type": "code",
   "execution_count": 13,
   "metadata": {},
   "outputs": [
    {
     "data": {
      "image/png": "[encoded data removed]",
      "text/plain": [
       "<Figure size 432x288 with 1 Axes>"
      ]
     },
     "metadata": {
      "needs_background": "light"
     },
     "output_type": "display_data"
    }
   ],
   "source": [
    "history_dict = history.history\n",
    "loss_values = history_dict['loss']\n",
    "epochs = range(1, len(loss_values) + 1)\n",
    "\n",
    "plt.plot(epochs, loss_values, 'bo', label='Training loss')\n",
    "plt.title('Training loss')\n",
    "plt.xlabel('Epochs')\n",
    "plt.ylabel('Loss')\n",
    "plt.legend()\n",
    "plt.show()"
   ]
  },
  {
   "cell_type": "markdown",
   "metadata": {},
   "source": [
    "## Test Trained Model Before Production Deployment"
   ]
  },
  {
   "cell_type": "markdown",
   "metadata": {},
   "source": [
    "<div align=\"left\">\n",
    "<img src=\"images/MNIST Trained model.png\" alt=\"Drawing\" style=\"width: 600px;\"/>\n",
    "</div>"
   ]
  },
  {
   "cell_type": "code",
   "execution_count": 18,
   "metadata": {},
   "outputs": [
    {
     "name": "stdout",
     "output_type": "stream",
     "text": [
      "10000/10000 [==============================] - 0s 30us/sample - loss: 0.2233 - acc: 0.9795\n"
     ]
    }
   ],
   "source": [
    "results = model.evaluate(X_test_images, Y_test_labels)"
   ]
  },
  {
   "cell_type": "code",
   "execution_count": 19,
   "metadata": {},
   "outputs": [
    {
     "data": {
      "text/plain": [
       "array([0., 0., 0., 0., 0., 0., 0., 1., 0., 0.], dtype=float32)"
      ]
     },
     "execution_count": 19,
     "metadata": {},
     "output_type": "execute_result"
    }
   ],
   "source": [
    "test_digits = X_test_images[0:10]\n",
    "predictions = model.predict(test_digits)\n",
    "predictions[0]"
   ]
  },
  {
   "cell_type": "code",
   "execution_count": 16,
   "metadata": {},
   "outputs": [
    {
     "name": "stdout",
     "output_type": "stream",
     "text": [
      "      Predicted Label =  7\n"
     ]
    },
    {
     "data": {
      "image/png": "[encoded data removed]",
      "text/plain": [
       "<Figure size 432x288 with 1 Axes>"
      ]
     },
     "metadata": {
      "needs_background": "light"
     },
     "output_type": "display_data"
    }
   ],
   "source": [
    "row = 0 \n",
    "digit = X_test_images_orig[row]\n",
    "\n",
    "print('      Predicted Label = ', np.argmax(predictions[row]))\n",
    "\n",
    "plt.imshow(digit, cmap=plt.cm.binary)\n",
    "plt.show()"
   ]
  },
  {
   "cell_type": "code",
   "execution_count": 17,
   "metadata": {},
   "outputs": [
    {
     "name": "stdout",
     "output_type": "stream",
     "text": [
      "      Predicted Label =  4\n"
     ]
    },
    {
     "data": {
      "image/png": "[encoded data removed]",
      "text/plain": [
       "<Figure size 432x288 with 1 Axes>"
      ]
     },
     "metadata": {
      "needs_background": "light"
     },
     "output_type": "display_data"
    }
   ],
   "source": [
    "row = 6\n",
    "digit = X_test_images_orig[row]\n",
    "\n",
    "print('      Predicted Label = ', np.argmax(predictions[row]))\n",
    "\n",
    "plt.imshow(digit, cmap=plt.cm.binary)\n",
    "plt.show()"
   ]
  }
 ],
 "metadata": {
  "kernelspec": {
   "display_name": "Python UWaterloo",
   "language": "python",
   "name": "uwaterloo"
  },
  "language_info": {
   "codemirror_mode": {
    "name": "ipython",
    "version": 3
   },
   "file_extension": ".py",
   "mimetype": "text/x-python",
   "name": "python",
   "nbconvert_exporter": "python",
   "pygments_lexer": "ipython3",
   "version": "3.7.6"
  }
 },
 "nbformat": 4,
 "nbformat_minor": 4
}
