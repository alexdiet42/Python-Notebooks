{
 "cells": [
  {
   "cell_type": "code",
   "execution_count": 1,
   "metadata": {},
   "outputs": [],
   "source": [
    "import numpy as np\n",
    "from tqdm import tqdm\n",
    "import random\n",
    "import pandas as pd"
   ]
  },
  {
   "cell_type": "code",
   "execution_count": 2,
   "metadata": {},
   "outputs": [],
   "source": [
    "gamma = 0.85 # discounting rate\n",
    "lr = 1\n",
    "rewardSize = -1\n",
    "gridSize = 4\n",
    "terminationStates = [[0,0], [gridSize-1, gridSize-1]]\n",
    "actionLabels = ['Up', 'Down', 'Right', 'Left']\n",
    "actions = [[-1, 0], [1, 0], [0, 1], [0, -1]]\n",
    "numIterations = 20000"
   ]
  },
  {
   "cell_type": "code",
   "execution_count": 3,
   "metadata": {},
   "outputs": [],
   "source": [
    "Value_table = np.zeros((gridSize, gridSize, len(actions)))\n",
    "states = [[i, j] for i in range(gridSize) for j in range(gridSize)]"
   ]
  },
  {
   "cell_type": "code",
   "execution_count": 4,
   "metadata": {},
   "outputs": [
    {
     "data": {
      "text/plain": [
       "[[0, 0],\n",
       " [0, 1],\n",
       " [0, 2],\n",
       " [0, 3],\n",
       " [1, 0],\n",
       " [1, 1],\n",
       " [1, 2],\n",
       " [1, 3],\n",
       " [2, 0],\n",
       " [2, 1],\n",
       " [2, 2],\n",
       " [2, 3],\n",
       " [3, 0],\n",
       " [3, 1],\n",
       " [3, 2],\n",
       " [3, 3]]"
      ]
     },
     "execution_count": 4,
     "metadata": {},
     "output_type": "execute_result"
    }
   ],
   "source": [
    "states"
   ]
  },
  {
   "cell_type": "code",
   "execution_count": 5,
   "metadata": {},
   "outputs": [
    {
     "data": {
      "text/plain": [
       "array([[[0., 0., 0., 0.],\n",
       "        [0., 0., 0., 0.],\n",
       "        [0., 0., 0., 0.],\n",
       "        [0., 0., 0., 0.]],\n",
       "\n",
       "       [[0., 0., 0., 0.],\n",
       "        [0., 0., 0., 0.],\n",
       "        [0., 0., 0., 0.],\n",
       "        [0., 0., 0., 0.]],\n",
       "\n",
       "       [[0., 0., 0., 0.],\n",
       "        [0., 0., 0., 0.],\n",
       "        [0., 0., 0., 0.],\n",
       "        [0., 0., 0., 0.]],\n",
       "\n",
       "       [[0., 0., 0., 0.],\n",
       "        [0., 0., 0., 0.],\n",
       "        [0., 0., 0., 0.],\n",
       "        [0., 0., 0., 0.]]])"
      ]
     },
     "execution_count": 5,
     "metadata": {},
     "output_type": "execute_result"
    }
   ],
   "source": [
    "Value_table"
   ]
  },
  {
   "cell_type": "code",
   "execution_count": 6,
   "metadata": {},
   "outputs": [],
   "source": [
    "def generateEpisode():\n",
    "    initState = random.choice(states[1:-1])\n",
    "    episode = []\n",
    "    \n",
    "    while True:\n",
    "        if list(initState) in terminationStates:\n",
    "            return episode\n",
    "        \n",
    "        action = random.choice(actions)\n",
    "        finalState = np.array(initState)+np.array(action)\n",
    "        \n",
    "        if -1 in list(finalState) or gridSize in list(finalState):\n",
    "            finalState = initState\n",
    "            \n",
    "        episode.append([list(initState), action, rewardSize, list(finalState)])\n",
    "        initState = finalState"
   ]
  },
  {
   "cell_type": "code",
   "execution_count": 7,
   "metadata": {},
   "outputs": [
    {
     "name": "stderr",
     "output_type": "stream",
     "text": [
      "100%|██████████| 20000/20000 [00:05<00:00, 3609.96it/s]\n"
     ]
    }
   ],
   "source": [
    "for it in tqdm(range(numIterations)):\n",
    "\n",
    "    episode = generateEpisode()\n",
    "\n",
    "    for i, step in enumerate(episode[::-1]):\n",
    "\n",
    "        if step[0] not in [x[0] for x in episode[::-1][len(episode)-i:]]:\n",
    "\n",
    "\n",
    "            idxinitstate = (step[0][0], step[0][1])  \n",
    "            \n",
    "            idxaction = actions.index(step[1])\n",
    "    \n",
    "            reward = step[2]\n",
    "        \n",
    "            idxnewstate = (step[3][0], step[3][1])\n",
    "            \n",
    "            oldValue = Value_table[idxinitstate[0], idxinitstate[1], idxaction]\n",
    "\n",
    "            Value_table[idxinitstate[0], idxinitstate[1], idxaction] = oldValue + lr * (reward + gamma * np.max(Value_table[idxnewstate[0], idxnewstate[1], :]) - oldValue)"
   ]
  },
  {
   "cell_type": "code",
   "execution_count": 8,
   "metadata": {},
   "outputs": [
    {
     "data": {
      "text/plain": [
       "array([[[ 0.      ,  0.      ,  0.      ,  0.      ],\n",
       "        [-1.85    , -2.5725  , -2.5725  , -1.      ],\n",
       "        [-2.5725  , -3.186625, -3.186625, -1.85    ],\n",
       "        [-3.186625, -2.5725  , -3.186625, -2.5725  ]],\n",
       "\n",
       "       [[-1.      , -2.5725  , -2.5725  , -1.85    ],\n",
       "        [-1.85    , -3.186625, -3.186625, -1.85    ],\n",
       "        [-2.5725  , -2.5725  , -2.5725  , -2.5725  ],\n",
       "        [-3.186625, -1.85    , -2.5725  , -3.186625]],\n",
       "\n",
       "       [[-1.85    , -3.186625, -3.186625, -2.5725  ],\n",
       "        [-2.5725  , -2.5725  , -2.5725  , -2.5725  ],\n",
       "        [-3.186625, -1.85    , -1.85    , -3.186625],\n",
       "        [-2.5725  , -1.      , -1.85    , -2.5725  ]],\n",
       "\n",
       "       [[-2.5725  , -3.186625, -2.5725  , -3.186625],\n",
       "        [-3.186625, -2.5725  , -1.85    , -3.186625],\n",
       "        [-2.5725  , -1.85    , -1.      , -2.5725  ],\n",
       "        [ 0.      ,  0.      ,  0.      ,  0.      ]]])"
      ]
     },
     "execution_count": 8,
     "metadata": {},
     "output_type": "execute_result"
    }
   ],
   "source": [
    "Value_table"
   ]
  },
  {
   "cell_type": "code",
   "execution_count": 9,
   "metadata": {},
   "outputs": [],
   "source": [
    "Qdf = pd.DataFrame(Value_table.reshape((16,4)), columns=actionLabels)"
   ]
  },
  {
   "cell_type": "code",
   "execution_count": 10,
   "metadata": {},
   "outputs": [],
   "source": [
    "Qdf['States'] = states"
   ]
  },
  {
   "cell_type": "code",
   "execution_count": 11,
   "metadata": {},
   "outputs": [],
   "source": [
    "Qdf = Qdf.set_index('States')"
   ]
  },
  {
   "cell_type": "code",
   "execution_count": 12,
   "metadata": {},
   "outputs": [
    {
     "data": {
      "text/plain": [
       "array([[0., 0., 0., 0.],\n",
       "       [0., 0., 0., 0.],\n",
       "       [0., 0., 0., 0.],\n",
       "       [0., 0., 0., 0.],\n",
       "       [0., 0., 0., 0.],\n",
       "       [0., 0., 0., 0.],\n",
       "       [0., 0., 0., 0.],\n",
       "       [0., 0., 0., 0.],\n",
       "       [0., 0., 0., 0.],\n",
       "       [0., 0., 0., 0.],\n",
       "       [0., 0., 0., 0.],\n",
       "       [0., 0., 0., 0.],\n",
       "       [0., 0., 0., 0.],\n",
       "       [0., 0., 0., 0.],\n",
       "       [0., 0., 0., 0.],\n",
       "       [0., 0., 0., 0.]])"
      ]
     },
     "execution_count": 12,
     "metadata": {},
     "output_type": "execute_result"
    }
   ],
   "source": [
    "Pi_table = np.zeros((gridSize * gridSize, len(actions)))\n",
    "Pi_table"
   ]
  },
  {
   "cell_type": "code",
   "execution_count": 13,
   "metadata": {},
   "outputs": [
    {
     "data": {
      "text/plain": [
       "-4.186624999999999"
      ]
     },
     "execution_count": 13,
     "metadata": {},
     "output_type": "execute_result"
    }
   ],
   "source": [
    "minValue = np.array(Value_table).min() - 1\n",
    "minValue"
   ]
  },
  {
   "cell_type": "code",
   "execution_count": 14,
   "metadata": {},
   "outputs": [],
   "source": [
    "for state in range(len(states)):\n",
    "    \n",
    "    if list(states[state]) not in terminationStates:\n",
    "        \n",
    "        action_candidates = []\n",
    "        for i in range(4):\n",
    "\n",
    "            finalState = np.array(states[state])+np.array(actions[i])\n",
    "            if -1 in list(finalState) or gridSize in list(finalState):\n",
    "                action_candidates.append([minValue, i])\n",
    "            else:\n",
    "                row = states[state][0] \n",
    "                col = states[state][1] \n",
    "\n",
    "                value = Value_table[row, col, i]\n",
    "\n",
    "                action_candidates.append([value, i])\n",
    "        \n",
    "        actionList = np.array(action_candidates)[:,0]\n",
    "\n",
    "        maxvalue = max(actionList)\n",
    "\n",
    "        for i in range(4):\n",
    "            if actionList[i] == maxvalue:\n",
    "                Pi_table[state][i] = 1    "
   ]
  },
  {
   "cell_type": "code",
   "execution_count": 15,
   "metadata": {},
   "outputs": [
    {
     "data": {
      "text/plain": [
       "array([[0., 0., 0., 0.],\n",
       "       [0., 0., 0., 1.],\n",
       "       [0., 0., 0., 1.],\n",
       "       [0., 1., 0., 1.],\n",
       "       [1., 0., 0., 0.],\n",
       "       [1., 0., 0., 1.],\n",
       "       [1., 1., 1., 1.],\n",
       "       [0., 1., 0., 0.],\n",
       "       [1., 0., 0., 0.],\n",
       "       [1., 1., 1., 1.],\n",
       "       [0., 1., 1., 0.],\n",
       "       [0., 1., 0., 0.],\n",
       "       [1., 0., 1., 0.],\n",
       "       [0., 0., 1., 0.],\n",
       "       [0., 0., 1., 0.],\n",
       "       [0., 0., 0., 0.]])"
      ]
     },
     "execution_count": 15,
     "metadata": {},
     "output_type": "execute_result"
    }
   ],
   "source": [
    "Pi_table"
   ]
  },
  {
   "cell_type": "code",
   "execution_count": 16,
   "metadata": {},
   "outputs": [],
   "source": [
    "Pidf = pd.DataFrame(Pi_table, columns=actionLabels)"
   ]
  },
  {
   "cell_type": "code",
   "execution_count": 17,
   "metadata": {},
   "outputs": [],
   "source": [
    "Pidf['States'] = states"
   ]
  },
  {
   "cell_type": "code",
   "execution_count": 18,
   "metadata": {},
   "outputs": [],
   "source": [
    "Pidf = Pidf.set_index('States')"
   ]
  },
  {
   "cell_type": "code",
   "execution_count": 19,
   "metadata": {},
   "outputs": [],
   "source": [
    "Pidf['Up'] = Pidf['Up'].apply(lambda x: 'X' if x == 1 else ' ')\n",
    "Pidf['Down'] = Pidf['Down'].apply(lambda x: 'X' if x == 1 else ' ')\n",
    "Pidf['Right'] = Pidf['Right'].apply(lambda x: 'X' if x == 1 else ' ')\n",
    "Pidf['Left'] = Pidf['Left'].apply(lambda x: 'X' if x == 1 else ' ')"
   ]
  },
  {
   "cell_type": "code",
   "execution_count": 20,
   "metadata": {},
   "outputs": [
    {
     "name": "stdout",
     "output_type": "stream",
     "text": [
      "\n",
      "             Q-TABLE\n"
     ]
    },
    {
     "data": {
      "text/html": [
       "<div>\n",
       "<style scoped>\n",
       "    .dataframe tbody tr th:only-of-type {\n",
       "        vertical-align: middle;\n",
       "    }\n",
       "\n",
       "    .dataframe tbody tr th {\n",
       "        vertical-align: top;\n",
       "    }\n",
       "\n",
       "    .dataframe thead th {\n",
       "        text-align: right;\n",
       "    }\n",
       "</style>\n",
       "<table border=\"1\" class=\"dataframe\">\n",
       "  <thead>\n",
       "    <tr style=\"text-align: right;\">\n",
       "      <th></th>\n",
       "      <th>Up</th>\n",
       "      <th>Down</th>\n",
       "      <th>Right</th>\n",
       "      <th>Left</th>\n",
       "    </tr>\n",
       "    <tr>\n",
       "      <th>States</th>\n",
       "      <th></th>\n",
       "      <th></th>\n",
       "      <th></th>\n",
       "      <th></th>\n",
       "    </tr>\n",
       "  </thead>\n",
       "  <tbody>\n",
       "    <tr>\n",
       "      <th>[0, 0]</th>\n",
       "      <td>0.000000</td>\n",
       "      <td>0.000000</td>\n",
       "      <td>0.000000</td>\n",
       "      <td>0.000000</td>\n",
       "    </tr>\n",
       "    <tr>\n",
       "      <th>[0, 1]</th>\n",
       "      <td>-1.850000</td>\n",
       "      <td>-2.572500</td>\n",
       "      <td>-2.572500</td>\n",
       "      <td>-1.000000</td>\n",
       "    </tr>\n",
       "    <tr>\n",
       "      <th>[0, 2]</th>\n",
       "      <td>-2.572500</td>\n",
       "      <td>-3.186625</td>\n",
       "      <td>-3.186625</td>\n",
       "      <td>-1.850000</td>\n",
       "    </tr>\n",
       "    <tr>\n",
       "      <th>[0, 3]</th>\n",
       "      <td>-3.186625</td>\n",
       "      <td>-2.572500</td>\n",
       "      <td>-3.186625</td>\n",
       "      <td>-2.572500</td>\n",
       "    </tr>\n",
       "    <tr>\n",
       "      <th>[1, 0]</th>\n",
       "      <td>-1.000000</td>\n",
       "      <td>-2.572500</td>\n",
       "      <td>-2.572500</td>\n",
       "      <td>-1.850000</td>\n",
       "    </tr>\n",
       "    <tr>\n",
       "      <th>[1, 1]</th>\n",
       "      <td>-1.850000</td>\n",
       "      <td>-3.186625</td>\n",
       "      <td>-3.186625</td>\n",
       "      <td>-1.850000</td>\n",
       "    </tr>\n",
       "    <tr>\n",
       "      <th>[1, 2]</th>\n",
       "      <td>-2.572500</td>\n",
       "      <td>-2.572500</td>\n",
       "      <td>-2.572500</td>\n",
       "      <td>-2.572500</td>\n",
       "    </tr>\n",
       "    <tr>\n",
       "      <th>[1, 3]</th>\n",
       "      <td>-3.186625</td>\n",
       "      <td>-1.850000</td>\n",
       "      <td>-2.572500</td>\n",
       "      <td>-3.186625</td>\n",
       "    </tr>\n",
       "    <tr>\n",
       "      <th>[2, 0]</th>\n",
       "      <td>-1.850000</td>\n",
       "      <td>-3.186625</td>\n",
       "      <td>-3.186625</td>\n",
       "      <td>-2.572500</td>\n",
       "    </tr>\n",
       "    <tr>\n",
       "      <th>[2, 1]</th>\n",
       "      <td>-2.572500</td>\n",
       "      <td>-2.572500</td>\n",
       "      <td>-2.572500</td>\n",
       "      <td>-2.572500</td>\n",
       "    </tr>\n",
       "    <tr>\n",
       "      <th>[2, 2]</th>\n",
       "      <td>-3.186625</td>\n",
       "      <td>-1.850000</td>\n",
       "      <td>-1.850000</td>\n",
       "      <td>-3.186625</td>\n",
       "    </tr>\n",
       "    <tr>\n",
       "      <th>[2, 3]</th>\n",
       "      <td>-2.572500</td>\n",
       "      <td>-1.000000</td>\n",
       "      <td>-1.850000</td>\n",
       "      <td>-2.572500</td>\n",
       "    </tr>\n",
       "    <tr>\n",
       "      <th>[3, 0]</th>\n",
       "      <td>-2.572500</td>\n",
       "      <td>-3.186625</td>\n",
       "      <td>-2.572500</td>\n",
       "      <td>-3.186625</td>\n",
       "    </tr>\n",
       "    <tr>\n",
       "      <th>[3, 1]</th>\n",
       "      <td>-3.186625</td>\n",
       "      <td>-2.572500</td>\n",
       "      <td>-1.850000</td>\n",
       "      <td>-3.186625</td>\n",
       "    </tr>\n",
       "    <tr>\n",
       "      <th>[3, 2]</th>\n",
       "      <td>-2.572500</td>\n",
       "      <td>-1.850000</td>\n",
       "      <td>-1.000000</td>\n",
       "      <td>-2.572500</td>\n",
       "    </tr>\n",
       "    <tr>\n",
       "      <th>[3, 3]</th>\n",
       "      <td>0.000000</td>\n",
       "      <td>0.000000</td>\n",
       "      <td>0.000000</td>\n",
       "      <td>0.000000</td>\n",
       "    </tr>\n",
       "  </tbody>\n",
       "</table>\n",
       "</div>"
      ],
      "text/plain": [
       "              Up      Down     Right      Left\n",
       "States                                        \n",
       "[0, 0]  0.000000  0.000000  0.000000  0.000000\n",
       "[0, 1] -1.850000 -2.572500 -2.572500 -1.000000\n",
       "[0, 2] -2.572500 -3.186625 -3.186625 -1.850000\n",
       "[0, 3] -3.186625 -2.572500 -3.186625 -2.572500\n",
       "[1, 0] -1.000000 -2.572500 -2.572500 -1.850000\n",
       "[1, 1] -1.850000 -3.186625 -3.186625 -1.850000\n",
       "[1, 2] -2.572500 -2.572500 -2.572500 -2.572500\n",
       "[1, 3] -3.186625 -1.850000 -2.572500 -3.186625\n",
       "[2, 0] -1.850000 -3.186625 -3.186625 -2.572500\n",
       "[2, 1] -2.572500 -2.572500 -2.572500 -2.572500\n",
       "[2, 2] -3.186625 -1.850000 -1.850000 -3.186625\n",
       "[2, 3] -2.572500 -1.000000 -1.850000 -2.572500\n",
       "[3, 0] -2.572500 -3.186625 -2.572500 -3.186625\n",
       "[3, 1] -3.186625 -2.572500 -1.850000 -3.186625\n",
       "[3, 2] -2.572500 -1.850000 -1.000000 -2.572500\n",
       "[3, 3]  0.000000  0.000000  0.000000  0.000000"
      ]
     },
     "execution_count": 20,
     "metadata": {},
     "output_type": "execute_result"
    }
   ],
   "source": [
    "print('')\n",
    "print('             Q-TABLE')\n",
    "Qdf"
   ]
  },
  {
   "cell_type": "code",
   "execution_count": 21,
   "metadata": {},
   "outputs": [
    {
     "name": "stdout",
     "output_type": "stream",
     "text": [
      "\n",
      "         Optimal Policy\n"
     ]
    },
    {
     "data": {
      "text/html": [
       "<div>\n",
       "<style scoped>\n",
       "    .dataframe tbody tr th:only-of-type {\n",
       "        vertical-align: middle;\n",
       "    }\n",
       "\n",
       "    .dataframe tbody tr th {\n",
       "        vertical-align: top;\n",
       "    }\n",
       "\n",
       "    .dataframe thead th {\n",
       "        text-align: right;\n",
       "    }\n",
       "</style>\n",
       "<table border=\"1\" class=\"dataframe\">\n",
       "  <thead>\n",
       "    <tr style=\"text-align: right;\">\n",
       "      <th></th>\n",
       "      <th>Up</th>\n",
       "      <th>Down</th>\n",
       "      <th>Right</th>\n",
       "      <th>Left</th>\n",
       "    </tr>\n",
       "    <tr>\n",
       "      <th>States</th>\n",
       "      <th></th>\n",
       "      <th></th>\n",
       "      <th></th>\n",
       "      <th></th>\n",
       "    </tr>\n",
       "  </thead>\n",
       "  <tbody>\n",
       "    <tr>\n",
       "      <th>[0, 0]</th>\n",
       "      <td></td>\n",
       "      <td></td>\n",
       "      <td></td>\n",
       "      <td></td>\n",
       "    </tr>\n",
       "    <tr>\n",
       "      <th>[0, 1]</th>\n",
       "      <td></td>\n",
       "      <td></td>\n",
       "      <td></td>\n",
       "      <td>X</td>\n",
       "    </tr>\n",
       "    <tr>\n",
       "      <th>[0, 2]</th>\n",
       "      <td></td>\n",
       "      <td></td>\n",
       "      <td></td>\n",
       "      <td>X</td>\n",
       "    </tr>\n",
       "    <tr>\n",
       "      <th>[0, 3]</th>\n",
       "      <td></td>\n",
       "      <td>X</td>\n",
       "      <td></td>\n",
       "      <td>X</td>\n",
       "    </tr>\n",
       "    <tr>\n",
       "      <th>[1, 0]</th>\n",
       "      <td>X</td>\n",
       "      <td></td>\n",
       "      <td></td>\n",
       "      <td></td>\n",
       "    </tr>\n",
       "    <tr>\n",
       "      <th>[1, 1]</th>\n",
       "      <td>X</td>\n",
       "      <td></td>\n",
       "      <td></td>\n",
       "      <td>X</td>\n",
       "    </tr>\n",
       "    <tr>\n",
       "      <th>[1, 2]</th>\n",
       "      <td>X</td>\n",
       "      <td>X</td>\n",
       "      <td>X</td>\n",
       "      <td>X</td>\n",
       "    </tr>\n",
       "    <tr>\n",
       "      <th>[1, 3]</th>\n",
       "      <td></td>\n",
       "      <td>X</td>\n",
       "      <td></td>\n",
       "      <td></td>\n",
       "    </tr>\n",
       "    <tr>\n",
       "      <th>[2, 0]</th>\n",
       "      <td>X</td>\n",
       "      <td></td>\n",
       "      <td></td>\n",
       "      <td></td>\n",
       "    </tr>\n",
       "    <tr>\n",
       "      <th>[2, 1]</th>\n",
       "      <td>X</td>\n",
       "      <td>X</td>\n",
       "      <td>X</td>\n",
       "      <td>X</td>\n",
       "    </tr>\n",
       "    <tr>\n",
       "      <th>[2, 2]</th>\n",
       "      <td></td>\n",
       "      <td>X</td>\n",
       "      <td>X</td>\n",
       "      <td></td>\n",
       "    </tr>\n",
       "    <tr>\n",
       "      <th>[2, 3]</th>\n",
       "      <td></td>\n",
       "      <td>X</td>\n",
       "      <td></td>\n",
       "      <td></td>\n",
       "    </tr>\n",
       "    <tr>\n",
       "      <th>[3, 0]</th>\n",
       "      <td>X</td>\n",
       "      <td></td>\n",
       "      <td>X</td>\n",
       "      <td></td>\n",
       "    </tr>\n",
       "    <tr>\n",
       "      <th>[3, 1]</th>\n",
       "      <td></td>\n",
       "      <td></td>\n",
       "      <td>X</td>\n",
       "      <td></td>\n",
       "    </tr>\n",
       "    <tr>\n",
       "      <th>[3, 2]</th>\n",
       "      <td></td>\n",
       "      <td></td>\n",
       "      <td>X</td>\n",
       "      <td></td>\n",
       "    </tr>\n",
       "    <tr>\n",
       "      <th>[3, 3]</th>\n",
       "      <td></td>\n",
       "      <td></td>\n",
       "      <td></td>\n",
       "      <td></td>\n",
       "    </tr>\n",
       "  </tbody>\n",
       "</table>\n",
       "</div>"
      ],
      "text/plain": [
       "       Up Down Right Left\n",
       "States                   \n",
       "[0, 0]                   \n",
       "[0, 1]                  X\n",
       "[0, 2]                  X\n",
       "[0, 3]       X          X\n",
       "[1, 0]  X                \n",
       "[1, 1]  X               X\n",
       "[1, 2]  X    X     X    X\n",
       "[1, 3]       X           \n",
       "[2, 0]  X                \n",
       "[2, 1]  X    X     X    X\n",
       "[2, 2]       X     X     \n",
       "[2, 3]       X           \n",
       "[3, 0]  X          X     \n",
       "[3, 1]             X     \n",
       "[3, 2]             X     \n",
       "[3, 3]                   "
      ]
     },
     "execution_count": 21,
     "metadata": {},
     "output_type": "execute_result"
    }
   ],
   "source": [
    "print('')\n",
    "print('         Optimal Policy')\n",
    "Pidf"
   ]
  }
 ],
 "metadata": {
  "kernelspec": {
   "display_name": "Python UWaterloo",
   "language": "python",
   "name": "uwaterloo"
  },
  "language_info": {
   "codemirror_mode": {
    "name": "ipython",
    "version": 3
   },
   "file_extension": ".py",
   "mimetype": "text/x-python",
   "name": "python",
   "nbconvert_exporter": "python",
   "pygments_lexer": "ipython3",
   "version": "3.7.6"
  }
 },
 "nbformat": 4,
 "nbformat_minor": 4
}
